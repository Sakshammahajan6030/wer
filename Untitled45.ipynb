{
  "nbformat": 4,
  "nbformat_minor": 0,
  "metadata": {
    "colab": {
      "provenance": []
    },
    "kernelspec": {
      "name": "python3",
      "display_name": "Python 3"
    },
    "language_info": {
      "name": "python"
    }
  },
  "cells": [
    {
      "cell_type": "code",
      "execution_count": null,
      "metadata": {
        "id": "Nt75INoTq8vZ"
      },
      "outputs": [],
      "source": [
        "#1. What is a parameter?\n",
        "\n",
        "\n",
        "#In Python, a parameter is a variable in the definition of a function. Parameters\n",
        "#are placeholders for the values (or arguments) that you pass into the function when you call it In Python, a parameter\n",
        "#is a variable in the definition of a function. Parameters are placeholders for the values (or arguments) that you pass into the function when you call it"
      ]
    },
    {
      "cell_type": "code",
      "source": [
        "def greet(name):  # 'name' is a parameter\n",
        "    print(f\"Hello, {name}!\")\n",
        "\n",
        "greet(\"Alice\")  # 'Alice' is an argument\n"
      ],
      "metadata": {
        "colab": {
          "base_uri": "https://localhost:8080/"
        },
        "id": "DyIhFkeCtV1q",
        "outputId": "90766793-dd25-4748-bd6c-a094714a5556"
      },
      "execution_count": 1,
      "outputs": [
        {
          "output_type": "stream",
          "name": "stdout",
          "text": [
            "Hello, Alice!\n"
          ]
        }
      ]
    },
    {
      "cell_type": "code",
      "source": [
        " #2. What is correlation?\n",
        " #What does negative correlation mean?\n",
        "\n",
        "#Correlation is a statistical measure that expresses the extent to which two variables\n",
        "#are linearly related. In other words, it indicates how changes in one variable are associated with changes in anotheCorrelation is a statistical\n",
        "#measure that expresses the extent to which two variables are linearly related. In other words, it indicates how changes in one variable are associated with changes in another"
      ],
      "metadata": {
        "id": "IusVKI5GtYdJ"
      },
      "execution_count": null,
      "outputs": []
    },
    {
      "cell_type": "code",
      "source": [
        "#A negative correlation means that as one variable increases, the other decreases.\n",
        "#The strength of this relationship is measured by the correlation coefficient, which ranges from -1 to 1. A correlation\n",
        "#coefficient close to -1 indicates a strong negative correlation, meaning the variables move in opposite directions consistently."
      ],
      "metadata": {
        "id": "sUSzmVCGuBVD"
      },
      "execution_count": null,
      "outputs": []
    },
    {
      "cell_type": "code",
      "source": [
        "#3. Define Machine Learning. What are the main components in Machine Learning?\n",
        "# Machine learning is a subset of artificial intelligence (AI) that focuses on\n",
        "# the development of algorithms and statistical models that enable computers to\n",
        "# perform tasks without explicit instructions. Instead, these systems learn from\n",
        "# data, identifying patterns and making decisions based on that information."
      ],
      "metadata": {
        "id": "J7-1cRCLunm3"
      },
      "execution_count": null,
      "outputs": []
    },
    {
      "cell_type": "code",
      "source": [
        "#Data:\n",
        "#Algorithms\n",
        "#Model\n",
        "#Feature Engineering\n",
        "#Training\n",
        "#Evaluation\n",
        "#Hyperparameter Tuning\n",
        "#Deployment\n",
        "#Monitoring and Maintenance:"
      ],
      "metadata": {
        "id": "X8QGKYZBu-wM"
      },
      "execution_count": null,
      "outputs": []
    },
    {
      "cell_type": "code",
      "source": [
        "#4.How does loss value help in determining whether the model is good or not?\n",
        "\n",
        "\n",
        "#Loss Value: A metric used to measure how well a machine learning model is performing by comparing the predicted values to the actual values.\n",
        "\n",
        "#Training Guidance: During training, the model's parameters are adjusted to minimize the loss value.\n",
        "\n",
        "#Model Evaluation: Low loss value on test data indicates good performance on unseen data.\n",
        "\n",
        "#Overfitting Detection: High loss on validation data compared to training data can indicate overfitting.\n",
        "\n",
        "#Hyperparameter Tuning: Loss values help find the optimal configuration of model parameters."
      ],
      "metadata": {
        "id": "M9j3btCfvcKn"
      },
      "execution_count": null,
      "outputs": []
    },
    {
      "cell_type": "code",
      "source": [
        "#5. What are continuous and categorical variables?\n",
        "\n",
        "#Continuous Variables\n",
        "#Can take an infinite number of values within a range.\n",
        "\n",
        "#Examples: height, temperature, time.\n",
        "\n",
        "#Categorical Variables\n",
        "#Represent distinct categories or groups.\n",
        "\n",
        "#Can be nominal (no specific order, e.g., gender) or ordinal (ordered, e.g., education level).\n",
        "\n",
        "#In summary:\n",
        "\n",
        "#Continuous: Measurable and infinite values.\n",
        "\n",
        "#Categorical: Finite and distinct categories or groups."
      ],
      "metadata": {
        "id": "DifDlqZUv7w9"
      },
      "execution_count": null,
      "outputs": []
    },
    {
      "cell_type": "code",
      "source": [
        " #6.How do we handle categorical variables in Machine Learning? What are the common techniques?"
      ],
      "metadata": {
        "id": "djOzEoc2wi39"
      },
      "execution_count": null,
      "outputs": []
    },
    {
      "cell_type": "code",
      "source": [
        "#1. Label Encoding\n",
        "#Each category is assigned a unique integer value. This technique is simple but can introduce ordinal relationships where there are none.\n",
        "\n",
        "\n",
        "\n",
        "#2. One-Hot Encoding\n",
        "#Each category is represented as a binary vector. This approach avoids the ordinal issue but can lead to high-dimensional data if there are many categories.\n",
        "\n",
        "\n",
        "\n",
        "\n",
        "#3. Ordinal Encoding\n",
        "#Similar to label encoding but useful for ordinal categories where the order matters, like education levels.\n",
        "\n",
        "\n",
        "\n",
        "#4. Frequency Encoding\n",
        "#Categories are replaced with their frequency in the dataset. This can help with categories that have some implicit importance based on their occurrence.\n",
        "\n",
        "\n",
        "#5. Target Encoding\n",
        "#Categories are replaced with the mean of the target variable for each category. This can be particularly useful in cases where certain categories have a strong relationship with the target variable.\n",
        "\n",
        "\n",
        "\n",
        "\n",
        "#6. Binary Encoding\n",
        "#Combines the benefits of one-hot encoding and label encoding by converting categories into binary digits and then encoding those as separate columns.\n"
      ],
      "metadata": {
        "id": "tGPp8OTswyUT"
      },
      "execution_count": 5,
      "outputs": []
    },
    {
      "cell_type": "code",
      "source": [
        "#7.What do you mean by training and testing a dataset?\n",
        "\n"
      ],
      "metadata": {
        "id": "3_S6ImZPxjs1"
      },
      "execution_count": null,
      "outputs": []
    },
    {
      "cell_type": "code",
      "source": [
        "#Training Dataset\n",
        "\n",
        "#The training dataset is used to train the machine learning model.\n",
        "#This dataset contains a set of input-output pairs where the model learns the relationships between the inputs (features) and the outputs (labels).\n",
        "#The goal is to allow the model to learn patterns, relationships, and underlying structures in the data so it can make accurate predictions."
      ],
      "metadata": {
        "id": "qjn5Z9rYyDEK"
      },
      "execution_count": null,
      "outputs": []
    },
    {
      "cell_type": "code",
      "source": [
        "#Testing Dataset\n",
        "\n",
        "#The testing dataset is used to evaluate the performance of the trained model\n",
        "#This dataset is separate from the training dataset and is used to assess how well the model generalizes to new, unseen data.\n",
        "#It helps ensure that the model's learned patterns are not just specific to the training data but are applicable to other data as well."
      ],
      "metadata": {
        "id": "gxwnE3tOyfUV"
      },
      "execution_count": null,
      "outputs": []
    },
    {
      "cell_type": "code",
      "source": [
        " #8.What is sklearn.preprocessing?\n",
        "\n",
        "#sklearn.preprocessing is a module in the Scikit-learn library\n",
        "#(commonly known as sklearn) that provides various functions and classes to preprocess and transform data before using it in machine learning models.\n",
        "#Preprocessing is a crucial step in the data pipeline to ensure that the data is in a suitable format for modeling. Here are some key functionalities provided by sklearn.preprocessing:"
      ],
      "metadata": {
        "id": "ou8xNrBvy1UQ"
      },
      "execution_count": null,
      "outputs": []
    },
    {
      "cell_type": "code",
      "source": [
        "#9. What is a Test set?\n",
        "\n",
        "#Test Set\n",
        "#Purpose: Used to evaluate the performance of a trained machine learning model.\n",
        "\n",
        "#Separation: Must be separate from the training set to ensure unbiased evaluation.\n",
        "\n",
        "#Generalization: Helps determine how well the model performs on new, unseen data."
      ],
      "metadata": {
        "id": "ltytequ2zbDs"
      },
      "execution_count": null,
      "outputs": []
    },
    {
      "cell_type": "code",
      "source": [
        "#10.How do we split data for model fitting (training and testing) in Python?\n",
        "#How do you approach a Machine Learning problem?"
      ],
      "metadata": {
        "id": "J0d94EOp0M5X"
      },
      "execution_count": null,
      "outputs": []
    },
    {
      "cell_type": "code",
      "source": [
        "#You can split your data into training and testing sets using the train_test_split function from Scikit-learn. Here’s a basic example:\n",
        "\n",
        "\n",
        "from sklearn.model_selection import train_test_split\n",
        "\n",
        "\n",
        "#You can split your data into training and testing sets using the train_test_split function from Scikit-learn. Here’s a basic example:\n",
        "\n",
        "\n",
        "from sklearn.model_selection import train_test_split\n",
        "\n",
        "# Assuming 'data' is your dataset and 'target' is your labels\n",
        "# X_train, X_test, y_train, y_test = train_test_split(data, target, test_size=0.2, random_state=42)\n",
        "#In this example, test_size=0.2 indicates that 20% of the data will be used for testing, and random_state=42 ensures reproducibility of the split.\n",
        "\n",
        "#Approaching a Machine Learning Problem\n",
        "#Define the Problem:\n",
        "\n",
        "#Clearly state the problem and the desired outcome.\n",
        "\n",
        "#Understand the business or research objective.\n",
        "\n",
        "#Collect Data:\n",
        "\n",
        "#Gather relevant data from various sources.\n",
        "\n",
        "#Ensure the data is high-quality and representative of the problem.\n",
        "\n",
        "#Explore and Preprocess Data:\n",
        "\n",
        "#Perform exploratory data analysis (EDA) to understand the data distribution and relationships.\n",
        "\n",
        "#Clean the data (handle missing values, remove duplicates).\n",
        "\n",
        "#Feature engineering (create new features, normalize/scale features).\n",
        "\n",
        "#Select a Model:\n",
        "\n",
        "#Choose appropriate machine learning algorithms based on the problem (classification, regression, clustering).\n",
        "\n",
        "#Consider the complexity and interpretability of the model.\n",
        "\n",
        "#Split Data:\n",
        "\n",
        "#Split the data into training and testing sets to evaluate the model’s performance.\n",
        "\n",
        "#Train the Model:\n",
        "\n",
        "#Use the training set to fit the model.\n",
        "\n",
        "#Optimize model parameters and hyperparameters.\n",
        "\n",
        "#Evaluate the Model:\n",
        "\n",
        "#Use the testing set to evaluate the model’s performance.\n",
        "\n",
        "#Use metrics like accuracy, precision, recall, F1-score, RMSE, etc.\n",
        "\n",
        "#Tune and Improve the Model:\n",
        "\n",
        "#Perform hyperparameter tuning (using techniques like Grid Search, Random Search).\n",
        "\n",
        "#Consider cross-validation to ensure the model generalizes well.\n",
        "\n",
        "#Deploy the Model:\n",
        "\n",
        "#Integrate the model into the production environment.\n",
        "\n",
        "#Monitor its performance and update as needed.\n",
        "\n",
        "#Communicate Results:\n",
        "\n",
        "#Share findings and insights with stakeholders.\n",
        "\n",
        "#Make recommendations based on the model’s predictions.\n",
        "\n",
        "#Define the Problem:\n",
        "\n",
        "#Clearly state the problem and the desired outcome.\n",
        "\n",
        "#Understand the business or research objective.\n",
        "\n",
        "#Collect Data:\n",
        "\n",
        "#Gather relevant data from various sources.\n",
        "\n",
        "#Ensure the data is high-quality and representative of the problem.\n",
        "\n",
        "#Explore and Preprocess Data:\n",
        "\n",
        "#Perform exploratory data analysis (EDA) to understand the data distribution and relationships.\n",
        "\n",
        "#Clean the data (handle missing values, remove duplicates).\n",
        "\n",
        "#Feature engineering (create new features, normalize/scale features).\n",
        "\n",
        "#Select a Model:\n",
        "\n",
        "#Choose appropriate machine learning algorithms based on the problem (classification, regression, clustering).\n",
        "\n",
        "#Consider the complexity and interpretability of the model.\n",
        "\n",
        "#Split Data:\n",
        "\n",
        "#Split the data into training and testing sets to evaluate the model’s performance.\n",
        "\n",
        "#Train the Model:\n",
        "\n",
        "#Use the training set to fit the model.\n",
        "\n",
        "#Optimize model parameters and hyperparameters.\n",
        "\n",
        "#Evaluate the Model:\n",
        "\n",
        "#Use the testing set to evaluate the model’s performance.\n",
        "\n",
        "#Use metrics like accuracy, precision, recall, F1-score, RMSE, etc.\n",
        "\n",
        "#Tune and Improve the Model:\n",
        "\n",
        "#Perform hyperparameter tuning (using techniques like Grid Search, Random Search).\n",
        "\n",
        "#Consider cross-validation to ensure the model generalizes well.\n",
        "\n",
        "#Deploy the Model:\n",
        "\n",
        "#Integrate the model into the production environment.\n",
        "\n",
        "#Monitor its performance and update as needed.\n",
        "\n",
        "#Communicate Results:\n",
        "\n",
        "#Share findings and insights with stakeholders.\n",
        "\n",
        "#Make recommendations based on the model’s predictions."
      ],
      "metadata": {
        "id": "ixg5Hrra0cbx"
      },
      "execution_count": 11,
      "outputs": []
    },
    {
      "cell_type": "code",
      "source": [
        "#11.Why do we have to perform EDA before fitting a model to the data?\n",
        "\n",
        "#Understand Data Structure\n",
        "\n",
        "#Detect Outliers\n",
        "\n",
        "#Identify Missing Values\n",
        "\n",
        "#Discover Patterns\n",
        "\n",
        "#Inform Feature Selection\n",
        "\n",
        "#Spot Data Quality Issues\n",
        "\n",
        "#Form Hypotheses\n",
        "\n",
        "#Guide Model Choice"
      ],
      "metadata": {
        "id": "s4A2U2Lo0wjU"
      },
      "execution_count": null,
      "outputs": []
    },
    {
      "cell_type": "code",
      "source": [
        " #12.What is correlation?\n",
        "\n",
        "# Key Points\n",
        "#Positive Correlation: When one variable increases, the other variable also increases. Example: As height increases, weight tends to increase.\n",
        "\n",
        "#Negative Correlation: When one variable increases, the other variable decreases. Example: As the number of hours spent watching TV increases, the number of hours spent exercising decreases.\n",
        "\n",
        "#Zero Correlation: No relationship between the variables. Changes in one do not affect the other.\n",
        "\n",
        "#Correlation Coefficient\n",
        "#The correlation coefficient, usually denoted as\n",
        "#𝑟\n",
        "#, quantifies the strength and direction of the relationship:\n",
        "\n",
        "#+1: Perfect positive correlation.\n",
        "\n",
        "#-1: Perfect negative correlation.\n",
        "\n",
        "#0: No correlation."
      ],
      "metadata": {
        "id": "8szlpd5K1uzV"
      },
      "execution_count": null,
      "outputs": []
    },
    {
      "cell_type": "code",
      "source": [
        "#13.What does negative correlation mean?\n",
        "\n",
        "#Negative correlation means that as one variable increases, the other variable decreases.\n",
        "#The relationship is represented by a correlation coefficient that ranges from -1 to 0. Here are key points:\n",
        "\n",
        "#Strong Negative Correlation: Closer to -1. Example: As temperature decreases, heating costs increase.\n",
        "\n",
        "#Weak Negative Correlation: Closer to 0, indicating a less pronounced inverse relationship."
      ],
      "metadata": {
        "id": "JkCt4kA02EJ0"
      },
      "execution_count": null,
      "outputs": []
    },
    {
      "cell_type": "code",
      "source": [
        "#14.How can you find correlation between variables in Python?\n",
        "\n"
      ],
      "metadata": {
        "id": "ary7Mi5n2oy1"
      },
      "execution_count": 12,
      "outputs": []
    },
    {
      "cell_type": "code",
      "source": [
        "import pandas as pd\n",
        "import numpy as np\n",
        "\n",
        "# Sample data\n",
        "data = {'A': [1, 2, 3, 4], 'B': ['X', 'Y', 'X', 'Y'], 'C': [10, 15, 14, 20]}\n",
        "df = pd.DataFrame(data)\n",
        "\n",
        "# Check data types\n",
        "print(df.dtypes)\n",
        "\n",
        "# Convert categorical data to numeric\n",
        "df = pd.get_dummies(df, drop_first=True)\n",
        "\n",
        "# Select only numeric columns\n",
        "numeric_df = df.select_dtypes(include=[np.number])\n",
        "\n",
        "# Calculate correlation\n",
        "correlation_matrix = numeric_df.corr()\n",
        "print(correlation_matrix)\n"
      ],
      "metadata": {
        "colab": {
          "base_uri": "https://localhost:8080/"
        },
        "id": "XSZcjuN72wfL",
        "outputId": "a4a8007a-77bd-4b9c-bc5c-2ee47c8bb040"
      },
      "execution_count": 14,
      "outputs": [
        {
          "output_type": "stream",
          "name": "stdout",
          "text": [
            "A     int64\n",
            "B    object\n",
            "C     int64\n",
            "dtype: object\n",
            "          A         C\n",
            "A  1.000000  0.910259\n",
            "C  0.910259  1.000000\n"
          ]
        }
      ]
    },
    {
      "cell_type": "code",
      "source": [
        "import pandas as pd\n",
        "\n",
        "\n",
        "correlation_matrix = df.corr()\n",
        "print(correlation_matrix)\n"
      ],
      "metadata": {
        "colab": {
          "base_uri": "https://localhost:8080/"
        },
        "id": "iPtfeOIX3BOd",
        "outputId": "83194936-9724-4572-a0d1-cca6370a7ab0"
      },
      "execution_count": 15,
      "outputs": [
        {
          "output_type": "stream",
          "name": "stdout",
          "text": [
            "            A         C       B_Y\n",
            "A    1.000000  0.910259  0.447214\n",
            "C    0.910259  1.000000  0.772049\n",
            "B_Y  0.447214  0.772049  1.000000\n"
          ]
        }
      ]
    },
    {
      "cell_type": "code",
      "source": [
        "#15.What is causation? Explain difference between correlation and causation with an example\n",
        "\n",
        "\n",
        "#Difference Between Correlation and Causation\n",
        "#Correlation: Measures the strength and direction of a relationship between two variables, but does not imply that one variable causes the other to change.\n",
        "\n",
        "#Causation: Implies that one variable directly affects another"
      ],
      "metadata": {
        "id": "OxRKKLi93FqX"
      },
      "execution_count": null,
      "outputs": []
    },
    {
      "cell_type": "code",
      "source": [
        "#Correlation: There is a positive correlation between ice cream sales and drowning incidents.\n",
        "#When ice cream sales go up, drowning incidents also tend to increase. However, this does not mean that eating ice cream causes drowning.\n",
        "\n",
        "\n",
        "\n",
        "#Causation: The real causative factor here is the temperature. Higher temperatures lead to both increased ice cream sales and more people swimming,\n",
        "#which can result in more drowning incidents. Thus, while there is a correlation between ice cream sales and drowning incidents, the causation is actually due to the temperature."
      ],
      "metadata": {
        "id": "lfUSP-E3316h"
      },
      "execution_count": null,
      "outputs": []
    },
    {
      "cell_type": "code",
      "source": [
        "#16What is an Optimizer? What are different types of optimizers? Explain each with an example.\n",
        "\n",
        "#An optimizer in the context of machine learning and deep learning is an algorithm or method used to adjust the parameters of a model\n",
        "#(like weights in a neural network) to minimize the loss function and improve the model’s performance."
      ],
      "metadata": {
        "id": "ice_RHit4RB3"
      },
      "execution_count": null,
      "outputs": []
    },
    {
      "cell_type": "code",
      "source": [
        "# Basic gradient descent update rule\n",
        "\n",
        "# Define num_iterations\n",
        "num_iterations = 1000\n",
        "learning_rate = 0.01  # Example learning rate\n",
        "weights = 0  # Example initial weight\n",
        "gradient = 0.5  # Example gradient value, normally calculated in each iteration\n",
        "\n",
        "for i in range(num_iterations):\n",
        "    weights = weights - learning_rate * gradient\n",
        "\n",
        "print(\"Final weights:\", weights)\n"
      ],
      "metadata": {
        "colab": {
          "base_uri": "https://localhost:8080/"
        },
        "id": "CWTZoK256q9I",
        "outputId": "db63215f-8d1c-41ad-e478-d18a52ec7a93"
      },
      "execution_count": 17,
      "outputs": [
        {
          "output_type": "stream",
          "name": "stdout",
          "text": [
            "Final weights: -4.999999999999916\n"
          ]
        }
      ]
    },
    {
      "cell_type": "code",
      "source": [
        "from tensorflow.keras.models import Sequential\n",
        "from tensorflow.keras.layers import Dense\n",
        "from tensorflow.keras.optimizers import SGD\n",
        "\n",
        "# Define the model\n",
        "model = Sequential()\n",
        "model.add(Dense(64, input_dim=8, activation='relu'))\n",
        "model.add(Dense(1))\n",
        "\n",
        "# Compile the model with SGD optimizer\n",
        "optimizer = SGD(learning_rate=0.01)\n",
        "model.compile(optimizer=optimizer, loss='mean_squared_error')\n",
        "\n",
        "print(\"Model compiled successfully!\")\n"
      ],
      "metadata": {
        "colab": {
          "base_uri": "https://localhost:8080/"
        },
        "id": "ie824bjA60PZ",
        "outputId": "80b5047f-6367-4392-de3f-dcb2684c90c4"
      },
      "execution_count": 23,
      "outputs": [
        {
          "output_type": "stream",
          "name": "stdout",
          "text": [
            "Model compiled successfully!\n"
          ]
        }
      ]
    },
    {
      "cell_type": "code",
      "source": [
        "import pandas as pd\n",
        "\n",
        "# Sample data\n",
        "data = {'A': [1, 2, 3, 4], 'B': ['X', 'Y', 'X', 'Y'], 'C': [10, 15, 14, 20]}\n",
        "df = pd.DataFrame(data)\n",
        "\n",
        "# Convert categorical data to numeric\n",
        "df = pd.get_dummies(df, drop_first=True)\n",
        "\n",
        "# Select only numeric columns\n",
        "correlation_matrix = df.corr()\n",
        "print(correlation_matrix)\n",
        "\n"
      ],
      "metadata": {
        "colab": {
          "base_uri": "https://localhost:8080/"
        },
        "id": "QRngXVGy7XuR",
        "outputId": "a1daec8a-63b0-4092-8592-411cf7ad3912"
      },
      "execution_count": 24,
      "outputs": [
        {
          "output_type": "stream",
          "name": "stdout",
          "text": [
            "            A         C       B_Y\n",
            "A    1.000000  0.910259  0.447214\n",
            "C    0.910259  1.000000  0.772049\n",
            "B_Y  0.447214  0.772049  1.000000\n"
          ]
        }
      ]
    },
    {
      "cell_type": "code",
      "source": [
        "import numpy as np\n",
        "\n",
        "# Sample data\n",
        "x = np.array([1, 2, 3, 4])\n",
        "y = np.array([10, 11, 12, 13])\n",
        "\n",
        "correlation = np.corrcoef(x, y)[0, 1]\n",
        "print(\"Correlation:\", correlation)\n",
        "\n"
      ],
      "metadata": {
        "colab": {
          "base_uri": "https://localhost:8080/"
        },
        "id": "1I86DevB7bkV",
        "outputId": "88dc0947-9334-4980-b800-8f0b775027a2"
      },
      "execution_count": 25,
      "outputs": [
        {
          "output_type": "stream",
          "name": "stdout",
          "text": [
            "Correlation: 1.0\n"
          ]
        }
      ]
    },
    {
      "cell_type": "code",
      "source": [
        "from scipy.stats import pearsonr, spearmanr\n",
        "\n",
        "# Sample data\n",
        "x = [1, 2, 3, 4]\n",
        "y = [10, 11, 12, 13]\n",
        "\n",
        "# Pearson correlation\n",
        "pearson_corr, _ = pearsonr(x, y)\n",
        "print('Pearson correlation: %.3f' % pearson_corr)\n",
        "\n",
        "# Spearman correlation\n",
        "spearman_corr, _ = spearmanr(x, y)\n",
        "print('Spearman correlation: %.3f' % spearman_corr)\n"
      ],
      "metadata": {
        "colab": {
          "base_uri": "https://localhost:8080/"
        },
        "id": "ScSCs3QH7eLh",
        "outputId": "e8e74b0b-431a-4e87-99ea-daaceba84f18"
      },
      "execution_count": 26,
      "outputs": [
        {
          "output_type": "stream",
          "name": "stdout",
          "text": [
            "Pearson correlation: 1.000\n",
            "Spearman correlation: 1.000\n"
          ]
        }
      ]
    },
    {
      "cell_type": "code",
      "source": [
        "import seaborn as sns\n",
        "import matplotlib.pyplot as plt\n",
        "import pandas as pd\n",
        "\n",
        "# Sample data\n",
        "data = {'A': [1, 2, 3, 4], 'B': [10, 11, 12, 13], 'C': [5, 6, 7, 8]}\n",
        "df = pd.DataFrame(data)\n",
        "\n",
        "# Heatmap of correlation matrix\n",
        "sns.heatmap(df.corr(), annot=True, cmap='coolwarm')\n",
        "plt.show()\n"
      ],
      "metadata": {
        "colab": {
          "base_uri": "https://localhost:8080/",
          "height": 435
        },
        "id": "q_QTLR0H79Tq",
        "outputId": "cf4ee4ef-c674-4600-e090-ed3a22b68905"
      },
      "execution_count": 27,
      "outputs": [
        {
          "output_type": "display_data",
          "data": {
            "text/plain": [
              "<Figure size 640x480 with 2 Axes>"
            ],
            "image/png": "[encoded data removed]"
          },
          "metadata": {}
        }
      ]
    },
    {
      "cell_type": "code",
      "source": [
        "#17What is sklearn.linear_model\n",
        "\n",
        "\n",
        "#sklearn.linear_model is a module in the Scikit-learn library (commonly known as sklearn) that provides a variety of linear models for regression and classification tasks.\n",
        " #This module includes various algorithms that are based on linear relationships between input variables (features) and output variables (target).\n",
        "\n",
        "\n"
      ],
      "metadata": {
        "id": "ZbEQ2gLj7_h6"
      },
      "execution_count": null,
      "outputs": []
    },
    {
      "cell_type": "code",
      "source": [
        "# 18What does model.fit() do? What arguments must be given\n",
        "\n",
        "\n",
        "#Required Arguments\n",
        "#X (Training Data)\n",
        "\n",
        "#Description: The input data used to train the model. This can be in the form of a NumPy array, DataFrame, or tensor.\n",
        "\n",
        "#Example:\n",
        "\n",
        "\n"
      ],
      "metadata": {
        "id": "DW3YtCQB8yvz"
      },
      "execution_count": 30,
      "outputs": []
    },
    {
      "cell_type": "code",
      "source": [
        "\n",
        "X_train = [[1, 2], [3, 4], [5, 6]]"
      ],
      "metadata": {
        "id": "0QLwQUBd9A37"
      },
      "execution_count": 31,
      "outputs": []
    },
    {
      "cell_type": "code",
      "source": [
        "#y (Target Labels)\n",
        "\n",
        "y_train = [0, 1, 0]\n"
      ],
      "metadata": {
        "id": "pkOXIQvF9IS4"
      },
      "execution_count": 33,
      "outputs": []
    },
    {
      "cell_type": "code",
      "source": [
        "#epochs\n",
        "\n",
        "#Description: Number of times the training process will run through the entire dataset. Used primarily in neural network training.\n",
        "\n",
        "epochs=100\n"
      ],
      "metadata": {
        "id": "M3glPec69OA8"
      },
      "execution_count": 34,
      "outputs": []
    },
    {
      "cell_type": "code",
      "source": [
        "#batch_size\n",
        "\n",
        "#Description: Number of samples per gradient update. Also used primarily in neural network training.\n",
        "\n",
        "#Example:\n",
        "\n",
        "batch_size=32"
      ],
      "metadata": {
        "id": "XBtGiJN59hXc"
      },
      "execution_count": 35,
      "outputs": []
    },
    {
      "cell_type": "code",
      "source": [
        "from tensorflow.keras.models import Sequential\n",
        "from tensorflow.keras.layers import Dense\n",
        "from tensorflow.keras.optimizers import Adam\n",
        "from sklearn.model_selection import train_test_split\n",
        "import numpy as np\n",
        "\n",
        "# Sample data\n",
        "X = np.array([[1, 2], [3, 4], [5, 6], [7, 8], [9, 10], [11, 12]])\n",
        "y = np.array([0, 1, 0, 1, 0, 1])\n",
        "\n",
        "# Split data into training and validation sets\n",
        "X_train, X_val, y_train, y_val = train_test_split(X, y, test_size=0.2, random_state=42)\n",
        "\n",
        "# Create the model\n",
        "model = Sequential()\n",
        "model.add(Dense(10, input_dim=2, activation='relu'))\n",
        "model.add(Dense(1, activation='sigmoid'))\n",
        "\n",
        "# Compile the model\n",
        "model.compile(optimizer=Adam(learning_rate=0.001), loss='binary_crossentropy', metrics=['accuracy'])\n",
        "\n",
        "# Train the model with validation data\n",
        "model.fit(X_train, y_train, epochs=100, batch_size=10, validation_data=(X_val, y_val))\n",
        "\n",
        "print(\"Model trained successfully!\")\n"
      ],
      "metadata": {
        "colab": {
          "base_uri": "https://localhost:8080/"
        },
        "id": "tq9sgy2w9rcv",
        "outputId": "28c8efcb-7eb2-4896-ec24-2d4cbfb867e2"
      },
      "execution_count": 37,
      "outputs": [
        {
          "output_type": "stream",
          "name": "stdout",
          "text": [
            "Epoch 1/100\n"
          ]
        },
        {
          "output_type": "stream",
          "name": "stderr",
          "text": [
            "/usr/local/lib/python3.10/dist-packages/keras/src/layers/core/dense.py:87: UserWarning: Do not pass an `input_shape`/`input_dim` argument to a layer. When using Sequential models, prefer using an `Input(shape)` object as the first layer in the model instead.\n",
            "  super().__init__(activity_regularizer=activity_regularizer, **kwargs)\n"
          ]
        },
        {
          "output_type": "stream",
          "name": "stdout",
          "text": [
            "\u001b[1m1/1\u001b[0m \u001b[32m━━━━━━━━━━━━━━━━━━━━\u001b[0m\u001b[37m\u001b[0m \u001b[1m2s\u001b[0m 2s/step - accuracy: 0.5000 - loss: 5.4180 - val_accuracy: 0.5000 - val_loss: 2.1692\n",
            "Epoch 2/100\n",
            "\u001b[1m1/1\u001b[0m \u001b[32m━━━━━━━━━━━━━━━━━━━━\u001b[0m\u001b[37m\u001b[0m \u001b[1m0s\u001b[0m 52ms/step - accuracy: 0.5000 - loss: 5.3687 - val_accuracy: 0.5000 - val_loss: 2.1512\n",
            "Epoch 3/100\n",
            "\u001b[1m1/1\u001b[0m \u001b[32m━━━━━━━━━━━━━━━━━━━━\u001b[0m\u001b[37m\u001b[0m \u001b[1m0s\u001b[0m 49ms/step - accuracy: 0.5000 - loss: 5.3194 - val_accuracy: 0.5000 - val_loss: 2.1333\n",
            "Epoch 4/100\n",
            "\u001b[1m1/1\u001b[0m \u001b[32m━━━━━━━━━━━━━━━━━━━━\u001b[0m\u001b[37m\u001b[0m \u001b[1m0s\u001b[0m 59ms/step - accuracy: 0.5000 - loss: 5.2702 - val_accuracy: 0.5000 - val_loss: 2.1154\n",
            "Epoch 5/100\n",
            "\u001b[1m1/1\u001b[0m \u001b[32m━━━━━━━━━━━━━━━━━━━━\u001b[0m\u001b[37m\u001b[0m \u001b[1m0s\u001b[0m 50ms/step - accuracy: 0.5000 - loss: 5.2210 - val_accuracy: 0.5000 - val_loss: 2.0976\n",
            "Epoch 6/100\n",
            "\u001b[1m1/1\u001b[0m \u001b[32m━━━━━━━━━━━━━━━━━━━━\u001b[0m\u001b[37m\u001b[0m \u001b[1m0s\u001b[0m 55ms/step - accuracy: 0.5000 - loss: 5.1719 - val_accuracy: 0.5000 - val_loss: 2.0798\n",
            "Epoch 7/100\n",
            "\u001b[1m1/1\u001b[0m \u001b[32m━━━━━━━━━━━━━━━━━━━━\u001b[0m\u001b[37m\u001b[0m \u001b[1m0s\u001b[0m 54ms/step - accuracy: 0.5000 - loss: 5.1228 - val_accuracy: 0.5000 - val_loss: 2.0621\n",
            "Epoch 8/100\n",
            "\u001b[1m1/1\u001b[0m \u001b[32m━━━━━━━━━━━━━━━━━━━━\u001b[0m\u001b[37m\u001b[0m \u001b[1m0s\u001b[0m 69ms/step - accuracy: 0.5000 - loss: 5.0738 - val_accuracy: 0.5000 - val_loss: 2.0444\n",
            "Epoch 9/100\n",
            "\u001b[1m1/1\u001b[0m \u001b[32m━━━━━━━━━━━━━━━━━━━━\u001b[0m\u001b[37m\u001b[0m \u001b[1m0s\u001b[0m 128ms/step - accuracy: 0.5000 - loss: 5.0248 - val_accuracy: 0.5000 - val_loss: 2.0268\n",
            "Epoch 10/100\n",
            "\u001b[1m1/1\u001b[0m \u001b[32m━━━━━━━━━━━━━━━━━━━━\u001b[0m\u001b[37m\u001b[0m \u001b[1m0s\u001b[0m 53ms/step - accuracy: 0.5000 - loss: 4.9759 - val_accuracy: 0.5000 - val_loss: 2.0092\n",
            "Epoch 11/100\n",
            "\u001b[1m1/1\u001b[0m \u001b[32m━━━━━━━━━━━━━━━━━━━━\u001b[0m\u001b[37m\u001b[0m \u001b[1m0s\u001b[0m 56ms/step - accuracy: 0.5000 - loss: 4.9270 - val_accuracy: 0.5000 - val_loss: 1.9917\n",
            "Epoch 12/100\n",
            "\u001b[1m1/1\u001b[0m \u001b[32m━━━━━━━━━━━━━━━━━━━━\u001b[0m\u001b[37m\u001b[0m \u001b[1m0s\u001b[0m 56ms/step - accuracy: 0.5000 - loss: 4.8782 - val_accuracy: 0.5000 - val_loss: 1.9742\n",
            "Epoch 13/100\n",
            "\u001b[1m1/1\u001b[0m \u001b[32m━━━━━━━━━━━━━━━━━━━━\u001b[0m\u001b[37m\u001b[0m \u001b[1m0s\u001b[0m 62ms/step - accuracy: 0.5000 - loss: 4.8294 - val_accuracy: 0.5000 - val_loss: 1.9568\n",
            "Epoch 14/100\n",
            "\u001b[1m1/1\u001b[0m \u001b[32m━━━━━━━━━━━━━━━━━━━━\u001b[0m\u001b[37m\u001b[0m \u001b[1m0s\u001b[0m 80ms/step - accuracy: 0.5000 - loss: 4.7807 - val_accuracy: 0.5000 - val_loss: 1.9395\n",
            "Epoch 15/100\n",
            "\u001b[1m1/1\u001b[0m \u001b[32m━━━━━━━━━━━━━━━━━━━━\u001b[0m\u001b[37m\u001b[0m \u001b[1m0s\u001b[0m 121ms/step - accuracy: 0.5000 - loss: 4.7320 - val_accuracy: 0.5000 - val_loss: 1.9222\n",
            "Epoch 16/100\n",
            "\u001b[1m1/1\u001b[0m \u001b[32m━━━━━━━━━━━━━━━━━━━━\u001b[0m\u001b[37m\u001b[0m \u001b[1m0s\u001b[0m 51ms/step - accuracy: 0.5000 - loss: 4.6834 - val_accuracy: 0.5000 - val_loss: 1.9049\n",
            "Epoch 17/100\n",
            "\u001b[1m1/1\u001b[0m \u001b[32m━━━━━━━━━━━━━━━━━━━━\u001b[0m\u001b[37m\u001b[0m \u001b[1m0s\u001b[0m 60ms/step - accuracy: 0.5000 - loss: 4.6348 - val_accuracy: 0.5000 - val_loss: 1.8877\n",
            "Epoch 18/100\n",
            "\u001b[1m1/1\u001b[0m \u001b[32m━━━━━━━━━━━━━━━━━━━━\u001b[0m\u001b[37m\u001b[0m \u001b[1m0s\u001b[0m 56ms/step - accuracy: 0.5000 - loss: 4.5863 - val_accuracy: 0.5000 - val_loss: 1.8706\n",
            "Epoch 19/100\n",
            "\u001b[1m1/1\u001b[0m \u001b[32m━━━━━━━━━━━━━━━━━━━━\u001b[0m\u001b[37m\u001b[0m \u001b[1m0s\u001b[0m 55ms/step - accuracy: 0.5000 - loss: 4.5378 - val_accuracy: 0.5000 - val_loss: 1.8535\n",
            "Epoch 20/100\n",
            "\u001b[1m1/1\u001b[0m \u001b[32m━━━━━━━━━━━━━━━━━━━━\u001b[0m\u001b[37m\u001b[0m \u001b[1m0s\u001b[0m 56ms/step - accuracy: 0.5000 - loss: 4.4894 - val_accuracy: 0.5000 - val_loss: 1.8365\n",
            "Epoch 21/100\n",
            "\u001b[1m1/1\u001b[0m \u001b[32m━━━━━━━━━━━━━━━━━━━━\u001b[0m\u001b[37m\u001b[0m \u001b[1m0s\u001b[0m 56ms/step - accuracy: 0.5000 - loss: 4.4410 - val_accuracy: 0.5000 - val_loss: 1.8196\n",
            "Epoch 22/100\n",
            "\u001b[1m1/1\u001b[0m \u001b[32m━━━━━━━━━━━━━━━━━━━━\u001b[0m\u001b[37m\u001b[0m \u001b[1m0s\u001b[0m 63ms/step - accuracy: 0.5000 - loss: 4.3927 - val_accuracy: 0.5000 - val_loss: 1.8027\n",
            "Epoch 23/100\n",
            "\u001b[1m1/1\u001b[0m \u001b[32m━━━━━━━━━━━━━━━━━━━━\u001b[0m\u001b[37m\u001b[0m \u001b[1m0s\u001b[0m 54ms/step - accuracy: 0.5000 - loss: 4.3445 - val_accuracy: 0.5000 - val_loss: 1.7859\n",
            "Epoch 24/100\n",
            "\u001b[1m1/1\u001b[0m \u001b[32m━━━━━━━━━━━━━━━━━━━━\u001b[0m\u001b[37m\u001b[0m \u001b[1m0s\u001b[0m 56ms/step - accuracy: 0.5000 - loss: 4.2963 - val_accuracy: 0.5000 - val_loss: 1.7691\n",
            "Epoch 25/100\n",
            "\u001b[1m1/1\u001b[0m \u001b[32m━━━━━━━━━━━━━━━━━━━━\u001b[0m\u001b[37m\u001b[0m \u001b[1m0s\u001b[0m 51ms/step - accuracy: 0.5000 - loss: 4.2482 - val_accuracy: 0.5000 - val_loss: 1.7525\n",
            "Epoch 26/100\n",
            "\u001b[1m1/1\u001b[0m \u001b[32m━━━━━━━━━━━━━━━━━━━━\u001b[0m\u001b[37m\u001b[0m \u001b[1m0s\u001b[0m 59ms/step - accuracy: 0.5000 - loss: 4.2001 - val_accuracy: 0.5000 - val_loss: 1.7358\n",
            "Epoch 27/100\n",
            "\u001b[1m1/1\u001b[0m \u001b[32m━━━━━━━━━━━━━━━━━━━━\u001b[0m\u001b[37m\u001b[0m \u001b[1m0s\u001b[0m 53ms/step - accuracy: 0.5000 - loss: 4.1521 - val_accuracy: 0.5000 - val_loss: 1.7193\n",
            "Epoch 28/100\n",
            "\u001b[1m1/1\u001b[0m \u001b[32m━━━━━━━━━━━━━━━━━━━━\u001b[0m\u001b[37m\u001b[0m \u001b[1m0s\u001b[0m 64ms/step - accuracy: 0.5000 - loss: 4.1042 - val_accuracy: 0.5000 - val_loss: 1.7028\n",
            "Epoch 29/100\n",
            "\u001b[1m1/1\u001b[0m \u001b[32m━━━━━━━━━━━━━━━━━━━━\u001b[0m\u001b[37m\u001b[0m \u001b[1m0s\u001b[0m 139ms/step - accuracy: 0.5000 - loss: 4.0563 - val_accuracy: 0.5000 - val_loss: 1.6864\n",
            "Epoch 30/100\n",
            "\u001b[1m1/1\u001b[0m \u001b[32m━━━━━━━━━━━━━━━━━━━━\u001b[0m\u001b[37m\u001b[0m \u001b[1m0s\u001b[0m 63ms/step - accuracy: 0.5000 - loss: 4.0085 - val_accuracy: 0.5000 - val_loss: 1.6701\n",
            "Epoch 31/100\n",
            "\u001b[1m1/1\u001b[0m \u001b[32m━━━━━━━━━━━━━━━━━━━━\u001b[0m\u001b[37m\u001b[0m \u001b[1m0s\u001b[0m 55ms/step - accuracy: 0.5000 - loss: 3.9607 - val_accuracy: 0.5000 - val_loss: 1.6538\n",
            "Epoch 32/100\n",
            "\u001b[1m1/1\u001b[0m \u001b[32m━━━━━━━━━━━━━━━━━━━━\u001b[0m\u001b[37m\u001b[0m \u001b[1m0s\u001b[0m 51ms/step - accuracy: 0.5000 - loss: 3.9130 - val_accuracy: 0.5000 - val_loss: 1.6376\n",
            "Epoch 33/100\n",
            "\u001b[1m1/1\u001b[0m \u001b[32m━━━━━━━━━━━━━━━━━━━━\u001b[0m\u001b[37m\u001b[0m \u001b[1m0s\u001b[0m 51ms/step - accuracy: 0.5000 - loss: 3.8654 - val_accuracy: 0.5000 - val_loss: 1.6215\n",
            "Epoch 34/100\n",
            "\u001b[1m1/1\u001b[0m \u001b[32m━━━━━━━━━━━━━━━━━━━━\u001b[0m\u001b[37m\u001b[0m \u001b[1m0s\u001b[0m 58ms/step - accuracy: 0.5000 - loss: 3.8179 - val_accuracy: 0.5000 - val_loss: 1.6054\n",
            "Epoch 35/100\n",
            "\u001b[1m1/1\u001b[0m \u001b[32m━━━━━━━━━━━━━━━━━━━━\u001b[0m\u001b[37m\u001b[0m \u001b[1m0s\u001b[0m 57ms/step - accuracy: 0.5000 - loss: 3.7704 - val_accuracy: 0.5000 - val_loss: 1.5895\n",
            "Epoch 36/100\n",
            "\u001b[1m1/1\u001b[0m \u001b[32m━━━━━━━━━━━━━━━━━━━━\u001b[0m\u001b[37m\u001b[0m \u001b[1m0s\u001b[0m 90ms/step - accuracy: 0.5000 - loss: 3.7229 - val_accuracy: 0.5000 - val_loss: 1.5736\n",
            "Epoch 37/100\n",
            "\u001b[1m1/1\u001b[0m \u001b[32m━━━━━━━━━━━━━━━━━━━━\u001b[0m\u001b[37m\u001b[0m \u001b[1m0s\u001b[0m 87ms/step - accuracy: 0.5000 - loss: 3.6756 - val_accuracy: 0.5000 - val_loss: 1.5578\n",
            "Epoch 38/100\n",
            "\u001b[1m1/1\u001b[0m \u001b[32m━━━━━━━━━━━━━━━━━━━━\u001b[0m\u001b[37m\u001b[0m \u001b[1m0s\u001b[0m 101ms/step - accuracy: 0.5000 - loss: 3.6283 - val_accuracy: 0.5000 - val_loss: 1.5421\n",
            "Epoch 39/100\n",
            "\u001b[1m1/1\u001b[0m \u001b[32m━━━━━━━━━━━━━━━━━━━━\u001b[0m\u001b[37m\u001b[0m \u001b[1m0s\u001b[0m 115ms/step - accuracy: 0.5000 - loss: 3.5811 - val_accuracy: 0.5000 - val_loss: 1.5264\n",
            "Epoch 40/100\n",
            "\u001b[1m1/1\u001b[0m \u001b[32m━━━━━━━━━━━━━━━━━━━━\u001b[0m\u001b[37m\u001b[0m \u001b[1m0s\u001b[0m 170ms/step - accuracy: 0.5000 - loss: 3.5339 - val_accuracy: 0.5000 - val_loss: 1.5109\n",
            "Epoch 41/100\n",
            "\u001b[1m1/1\u001b[0m \u001b[32m━━━━━━━━━━━━━━━━━━━━\u001b[0m\u001b[37m\u001b[0m \u001b[1m0s\u001b[0m 80ms/step - accuracy: 0.5000 - loss: 3.4868 - val_accuracy: 0.5000 - val_loss: 1.4954\n",
            "Epoch 42/100\n",
            "\u001b[1m1/1\u001b[0m \u001b[32m━━━━━━━━━━━━━━━━━━━━\u001b[0m\u001b[37m\u001b[0m \u001b[1m0s\u001b[0m 133ms/step - accuracy: 0.5000 - loss: 3.4398 - val_accuracy: 0.5000 - val_loss: 1.4800\n",
            "Epoch 43/100\n",
            "\u001b[1m1/1\u001b[0m \u001b[32m━━━━━━━━━━━━━━━━━━━━\u001b[0m\u001b[37m\u001b[0m \u001b[1m0s\u001b[0m 139ms/step - accuracy: 0.5000 - loss: 3.3929 - val_accuracy: 0.5000 - val_loss: 1.4647\n",
            "Epoch 44/100\n",
            "\u001b[1m1/1\u001b[0m \u001b[32m━━━━━━━━━━━━━━━━━━━━\u001b[0m\u001b[37m\u001b[0m \u001b[1m0s\u001b[0m 91ms/step - accuracy: 0.5000 - loss: 3.3461 - val_accuracy: 0.5000 - val_loss: 1.4495\n",
            "Epoch 45/100\n",
            "\u001b[1m1/1\u001b[0m \u001b[32m━━━━━━━━━━━━━━━━━━━━\u001b[0m\u001b[37m\u001b[0m \u001b[1m0s\u001b[0m 141ms/step - accuracy: 0.5000 - loss: 3.2993 - val_accuracy: 0.5000 - val_loss: 1.4344\n",
            "Epoch 46/100\n",
            "\u001b[1m1/1\u001b[0m \u001b[32m━━━━━━━━━━━━━━━━━━━━\u001b[0m\u001b[37m\u001b[0m \u001b[1m0s\u001b[0m 136ms/step - accuracy: 0.5000 - loss: 3.2526 - val_accuracy: 0.5000 - val_loss: 1.4194\n",
            "Epoch 47/100\n",
            "\u001b[1m1/1\u001b[0m \u001b[32m━━━━━━━━━━━━━━━━━━━━\u001b[0m\u001b[37m\u001b[0m \u001b[1m0s\u001b[0m 147ms/step - accuracy: 0.5000 - loss: 3.2060 - val_accuracy: 0.5000 - val_loss: 1.4045\n",
            "Epoch 48/100\n",
            "\u001b[1m1/1\u001b[0m \u001b[32m━━━━━━━━━━━━━━━━━━━━\u001b[0m\u001b[37m\u001b[0m \u001b[1m0s\u001b[0m 122ms/step - accuracy: 0.5000 - loss: 3.1595 - val_accuracy: 0.5000 - val_loss: 1.3896\n",
            "Epoch 49/100\n",
            "\u001b[1m1/1\u001b[0m \u001b[32m━━━━━━━━━━━━━━━━━━━━\u001b[0m\u001b[37m\u001b[0m \u001b[1m0s\u001b[0m 93ms/step - accuracy: 0.5000 - loss: 3.1131 - val_accuracy: 0.5000 - val_loss: 1.3749\n",
            "Epoch 50/100\n",
            "\u001b[1m1/1\u001b[0m \u001b[32m━━━━━━━━━━━━━━━━━━━━\u001b[0m\u001b[37m\u001b[0m \u001b[1m0s\u001b[0m 125ms/step - accuracy: 0.5000 - loss: 3.0667 - val_accuracy: 0.5000 - val_loss: 1.3603\n",
            "Epoch 51/100\n",
            "\u001b[1m1/1\u001b[0m \u001b[32m━━━━━━━━━━━━━━━━━━━━\u001b[0m\u001b[37m\u001b[0m \u001b[1m0s\u001b[0m 81ms/step - accuracy: 0.5000 - loss: 3.0205 - val_accuracy: 0.5000 - val_loss: 1.3457\n",
            "Epoch 52/100\n",
            "\u001b[1m1/1\u001b[0m \u001b[32m━━━━━━━━━━━━━━━━━━━━\u001b[0m\u001b[37m\u001b[0m \u001b[1m0s\u001b[0m 86ms/step - accuracy: 0.5000 - loss: 2.9744 - val_accuracy: 0.5000 - val_loss: 1.3313\n",
            "Epoch 53/100\n",
            "\u001b[1m1/1\u001b[0m \u001b[32m━━━━━━━━━━━━━━━━━━━━\u001b[0m\u001b[37m\u001b[0m \u001b[1m0s\u001b[0m 135ms/step - accuracy: 0.5000 - loss: 2.9283 - val_accuracy: 0.5000 - val_loss: 1.3170\n",
            "Epoch 54/100\n",
            "\u001b[1m1/1\u001b[0m \u001b[32m━━━━━━━━━━━━━━━━━━━━\u001b[0m\u001b[37m\u001b[0m \u001b[1m0s\u001b[0m 116ms/step - accuracy: 0.5000 - loss: 2.8824 - val_accuracy: 0.5000 - val_loss: 1.3028\n",
            "Epoch 55/100\n",
            "\u001b[1m1/1\u001b[0m \u001b[32m━━━━━━━━━━━━━━━━━━━━\u001b[0m\u001b[37m\u001b[0m \u001b[1m0s\u001b[0m 72ms/step - accuracy: 0.5000 - loss: 2.8366 - val_accuracy: 0.5000 - val_loss: 1.2887\n",
            "Epoch 56/100\n",
            "\u001b[1m1/1\u001b[0m \u001b[32m━━━━━━━━━━━━━━━━━━━━\u001b[0m\u001b[37m\u001b[0m \u001b[1m0s\u001b[0m 175ms/step - accuracy: 0.5000 - loss: 2.7908 - val_accuracy: 0.5000 - val_loss: 1.2747\n",
            "Epoch 57/100\n",
            "\u001b[1m1/1\u001b[0m \u001b[32m━━━━━━━━━━━━━━━━━━━━\u001b[0m\u001b[37m\u001b[0m \u001b[1m0s\u001b[0m 109ms/step - accuracy: 0.5000 - loss: 2.7452 - val_accuracy: 0.5000 - val_loss: 1.2608\n",
            "Epoch 58/100\n",
            "\u001b[1m1/1\u001b[0m \u001b[32m━━━━━━━━━━━━━━━━━━━━\u001b[0m\u001b[37m\u001b[0m \u001b[1m0s\u001b[0m 120ms/step - accuracy: 0.5000 - loss: 2.6998 - val_accuracy: 0.5000 - val_loss: 1.2470\n",
            "Epoch 59/100\n",
            "\u001b[1m1/1\u001b[0m \u001b[32m━━━━━━━━━━━━━━━━━━━━\u001b[0m\u001b[37m\u001b[0m \u001b[1m0s\u001b[0m 122ms/step - accuracy: 0.5000 - loss: 2.6544 - val_accuracy: 0.5000 - val_loss: 1.2334\n",
            "Epoch 60/100\n",
            "\u001b[1m1/1\u001b[0m \u001b[32m━━━━━━━━━━━━━━━━━━━━\u001b[0m\u001b[37m\u001b[0m \u001b[1m0s\u001b[0m 52ms/step - accuracy: 0.5000 - loss: 2.6092 - val_accuracy: 0.5000 - val_loss: 1.2199\n",
            "Epoch 61/100\n",
            "\u001b[1m1/1\u001b[0m \u001b[32m━━━━━━━━━━━━━━━━━━━━\u001b[0m\u001b[37m\u001b[0m \u001b[1m0s\u001b[0m 52ms/step - accuracy: 0.5000 - loss: 2.5641 - val_accuracy: 0.5000 - val_loss: 1.2065\n",
            "Epoch 62/100\n",
            "\u001b[1m1/1\u001b[0m \u001b[32m━━━━━━━━━━━━━━━━━━━━\u001b[0m\u001b[37m\u001b[0m \u001b[1m0s\u001b[0m 52ms/step - accuracy: 0.5000 - loss: 2.5192 - val_accuracy: 0.5000 - val_loss: 1.1932\n",
            "Epoch 63/100\n",
            "\u001b[1m1/1\u001b[0m \u001b[32m━━━━━━━━━━━━━━━━━━━━\u001b[0m\u001b[37m\u001b[0m \u001b[1m0s\u001b[0m 163ms/step - accuracy: 0.5000 - loss: 2.4744 - val_accuracy: 0.5000 - val_loss: 1.1800\n",
            "Epoch 64/100\n",
            "\u001b[1m1/1\u001b[0m \u001b[32m━━━━━━━━━━━━━━━━━━━━\u001b[0m\u001b[37m\u001b[0m \u001b[1m0s\u001b[0m 52ms/step - accuracy: 0.5000 - loss: 2.4298 - val_accuracy: 0.5000 - val_loss: 1.1670\n",
            "Epoch 65/100\n",
            "\u001b[1m1/1\u001b[0m \u001b[32m━━━━━━━━━━━━━━━━━━━━\u001b[0m\u001b[37m\u001b[0m \u001b[1m0s\u001b[0m 62ms/step - accuracy: 0.5000 - loss: 2.3853 - val_accuracy: 0.5000 - val_loss: 1.1541\n",
            "Epoch 66/100\n",
            "\u001b[1m1/1\u001b[0m \u001b[32m━━━━━━━━━━━━━━━━━━━━\u001b[0m\u001b[37m\u001b[0m \u001b[1m0s\u001b[0m 82ms/step - accuracy: 0.5000 - loss: 2.3410 - val_accuracy: 0.5000 - val_loss: 1.1413\n",
            "Epoch 67/100\n",
            "\u001b[1m1/1\u001b[0m \u001b[32m━━━━━━━━━━━━━━━━━━━━\u001b[0m\u001b[37m\u001b[0m \u001b[1m0s\u001b[0m 113ms/step - accuracy: 0.5000 - loss: 2.2969 - val_accuracy: 0.5000 - val_loss: 1.1287\n",
            "Epoch 68/100\n",
            "\u001b[1m1/1\u001b[0m \u001b[32m━━━━━━━━━━━━━━━━━━━━\u001b[0m\u001b[37m\u001b[0m \u001b[1m0s\u001b[0m 57ms/step - accuracy: 0.5000 - loss: 2.2530 - val_accuracy: 0.5000 - val_loss: 1.1162\n",
            "Epoch 69/100\n",
            "\u001b[1m1/1\u001b[0m \u001b[32m━━━━━━━━━━━━━━━━━━━━\u001b[0m\u001b[37m\u001b[0m \u001b[1m0s\u001b[0m 55ms/step - accuracy: 0.5000 - loss: 2.2093 - val_accuracy: 0.5000 - val_loss: 1.1039\n",
            "Epoch 70/100\n",
            "\u001b[1m1/1\u001b[0m \u001b[32m━━━━━━━━━━━━━━━━━━━━\u001b[0m\u001b[37m\u001b[0m \u001b[1m0s\u001b[0m 53ms/step - accuracy: 0.5000 - loss: 2.1659 - val_accuracy: 0.5000 - val_loss: 1.0917\n",
            "Epoch 71/100\n",
            "\u001b[1m1/1\u001b[0m \u001b[32m━━━━━━━━━━━━━━━━━━━━\u001b[0m\u001b[37m\u001b[0m \u001b[1m0s\u001b[0m 54ms/step - accuracy: 0.5000 - loss: 2.1226 - val_accuracy: 0.5000 - val_loss: 1.0796\n",
            "Epoch 72/100\n",
            "\u001b[1m1/1\u001b[0m \u001b[32m━━━━━━━━━━━━━━━━━━━━\u001b[0m\u001b[37m\u001b[0m \u001b[1m0s\u001b[0m 53ms/step - accuracy: 0.5000 - loss: 2.0796 - val_accuracy: 0.5000 - val_loss: 1.0677\n",
            "Epoch 73/100\n",
            "\u001b[1m1/1\u001b[0m \u001b[32m━━━━━━━━━━━━━━━━━━━━\u001b[0m\u001b[37m\u001b[0m \u001b[1m0s\u001b[0m 57ms/step - accuracy: 0.5000 - loss: 2.0368 - val_accuracy: 0.5000 - val_loss: 1.0559\n",
            "Epoch 74/100\n",
            "\u001b[1m1/1\u001b[0m \u001b[32m━━━━━━━━━━━━━━━━━━━━\u001b[0m\u001b[37m\u001b[0m \u001b[1m0s\u001b[0m 57ms/step - accuracy: 0.5000 - loss: 1.9943 - val_accuracy: 0.5000 - val_loss: 1.0443\n",
            "Epoch 75/100\n",
            "\u001b[1m1/1\u001b[0m \u001b[32m━━━━━━━━━━━━━━━━━━━━\u001b[0m\u001b[37m\u001b[0m \u001b[1m0s\u001b[0m 56ms/step - accuracy: 0.5000 - loss: 1.9521 - val_accuracy: 0.5000 - val_loss: 1.0329\n",
            "Epoch 76/100\n",
            "\u001b[1m1/1\u001b[0m \u001b[32m━━━━━━━━━━━━━━━━━━━━\u001b[0m\u001b[37m\u001b[0m \u001b[1m0s\u001b[0m 55ms/step - accuracy: 0.5000 - loss: 1.9102 - val_accuracy: 0.5000 - val_loss: 1.0216\n",
            "Epoch 77/100\n",
            "\u001b[1m1/1\u001b[0m \u001b[32m━━━━━━━━━━━━━━━━━━━━\u001b[0m\u001b[37m\u001b[0m \u001b[1m0s\u001b[0m 58ms/step - accuracy: 0.5000 - loss: 1.8686 - val_accuracy: 0.5000 - val_loss: 1.0104\n",
            "Epoch 78/100\n",
            "\u001b[1m1/1\u001b[0m \u001b[32m━━━━━━━━━━━━━━━━━━━━\u001b[0m\u001b[37m\u001b[0m \u001b[1m0s\u001b[0m 75ms/step - accuracy: 0.5000 - loss: 1.8274 - val_accuracy: 0.5000 - val_loss: 0.9995\n",
            "Epoch 79/100\n",
            "\u001b[1m1/1\u001b[0m \u001b[32m━━━━━━━━━━━━━━━━━━━━\u001b[0m\u001b[37m\u001b[0m \u001b[1m0s\u001b[0m 52ms/step - accuracy: 0.5000 - loss: 1.7865 - val_accuracy: 0.5000 - val_loss: 0.9887\n",
            "Epoch 80/100\n",
            "\u001b[1m1/1\u001b[0m \u001b[32m━━━━━━━━━━━━━━━━━━━━\u001b[0m\u001b[37m\u001b[0m \u001b[1m0s\u001b[0m 63ms/step - accuracy: 0.5000 - loss: 1.7459 - val_accuracy: 0.5000 - val_loss: 0.9780\n",
            "Epoch 81/100\n",
            "\u001b[1m1/1\u001b[0m \u001b[32m━━━━━━━━━━━━━━━━━━━━\u001b[0m\u001b[37m\u001b[0m \u001b[1m0s\u001b[0m 64ms/step - accuracy: 0.5000 - loss: 1.7058 - val_accuracy: 0.5000 - val_loss: 0.9676\n",
            "Epoch 82/100\n",
            "\u001b[1m1/1\u001b[0m \u001b[32m━━━━━━━━━━━━━━━━━━━━\u001b[0m\u001b[37m\u001b[0m \u001b[1m0s\u001b[0m 64ms/step - accuracy: 0.5000 - loss: 1.6661 - val_accuracy: 0.5000 - val_loss: 0.9573\n",
            "Epoch 83/100\n",
            "\u001b[1m1/1\u001b[0m \u001b[32m━━━━━━━━━━━━━━━━━━━━\u001b[0m\u001b[37m\u001b[0m \u001b[1m0s\u001b[0m 66ms/step - accuracy: 0.5000 - loss: 1.6269 - val_accuracy: 0.5000 - val_loss: 0.9472\n",
            "Epoch 84/100\n",
            "\u001b[1m1/1\u001b[0m \u001b[32m━━━━━━━━━━━━━━━━━━━━\u001b[0m\u001b[37m\u001b[0m \u001b[1m0s\u001b[0m 58ms/step - accuracy: 0.5000 - loss: 1.5881 - val_accuracy: 0.5000 - val_loss: 0.9373\n",
            "Epoch 85/100\n",
            "\u001b[1m1/1\u001b[0m \u001b[32m━━━━━━━━━━━━━━━━━━━━\u001b[0m\u001b[37m\u001b[0m \u001b[1m0s\u001b[0m 57ms/step - accuracy: 0.5000 - loss: 1.5498 - val_accuracy: 0.5000 - val_loss: 0.9276\n",
            "Epoch 86/100\n",
            "\u001b[1m1/1\u001b[0m \u001b[32m━━━━━━━━━━━━━━━━━━━━\u001b[0m\u001b[37m\u001b[0m \u001b[1m0s\u001b[0m 59ms/step - accuracy: 0.5000 - loss: 1.5120 - val_accuracy: 0.5000 - val_loss: 0.9180\n",
            "Epoch 87/100\n",
            "\u001b[1m1/1\u001b[0m \u001b[32m━━━━━━━━━━━━━━━━━━━━\u001b[0m\u001b[37m\u001b[0m \u001b[1m0s\u001b[0m 52ms/step - accuracy: 0.5000 - loss: 1.4748 - val_accuracy: 0.5000 - val_loss: 0.9086\n",
            "Epoch 88/100\n",
            "\u001b[1m1/1\u001b[0m \u001b[32m━━━━━━━━━━━━━━━━━━━━\u001b[0m\u001b[37m\u001b[0m \u001b[1m0s\u001b[0m 54ms/step - accuracy: 0.5000 - loss: 1.4382 - val_accuracy: 0.5000 - val_loss: 0.8995\n",
            "Epoch 89/100\n",
            "\u001b[1m1/1\u001b[0m \u001b[32m━━━━━━━━━━━━━━━━━━━━\u001b[0m\u001b[37m\u001b[0m \u001b[1m0s\u001b[0m 54ms/step - accuracy: 0.5000 - loss: 1.4022 - val_accuracy: 0.5000 - val_loss: 0.8905\n",
            "Epoch 90/100\n",
            "\u001b[1m1/1\u001b[0m \u001b[32m━━━━━━━━━━━━━━━━━━━━\u001b[0m\u001b[37m\u001b[0m \u001b[1m0s\u001b[0m 59ms/step - accuracy: 0.5000 - loss: 1.3668 - val_accuracy: 0.5000 - val_loss: 0.8817\n",
            "Epoch 91/100\n",
            "\u001b[1m1/1\u001b[0m \u001b[32m━━━━━━━━━━━━━━━━━━━━\u001b[0m\u001b[37m\u001b[0m \u001b[1m0s\u001b[0m 54ms/step - accuracy: 0.5000 - loss: 1.3321 - val_accuracy: 0.5000 - val_loss: 0.8731\n",
            "Epoch 92/100\n",
            "\u001b[1m1/1\u001b[0m \u001b[32m━━━━━━━━━━━━━━━━━━━━\u001b[0m\u001b[37m\u001b[0m \u001b[1m0s\u001b[0m 53ms/step - accuracy: 0.5000 - loss: 1.2981 - val_accuracy: 0.5000 - val_loss: 0.8648\n",
            "Epoch 93/100\n",
            "\u001b[1m1/1\u001b[0m \u001b[32m━━━━━━━━━━━━━━━━━━━━\u001b[0m\u001b[37m\u001b[0m \u001b[1m0s\u001b[0m 57ms/step - accuracy: 0.5000 - loss: 1.2649 - val_accuracy: 0.5000 - val_loss: 0.8566\n",
            "Epoch 94/100\n",
            "\u001b[1m1/1\u001b[0m \u001b[32m━━━━━━━━━━━━━━━━━━━━\u001b[0m\u001b[37m\u001b[0m \u001b[1m0s\u001b[0m 69ms/step - accuracy: 0.5000 - loss: 1.2325 - val_accuracy: 0.5000 - val_loss: 0.8486\n",
            "Epoch 95/100\n",
            "\u001b[1m1/1\u001b[0m \u001b[32m━━━━━━━━━━━━━━━━━━━━\u001b[0m\u001b[37m\u001b[0m \u001b[1m0s\u001b[0m 52ms/step - accuracy: 0.5000 - loss: 1.2008 - val_accuracy: 0.5000 - val_loss: 0.8409\n",
            "Epoch 96/100\n",
            "\u001b[1m1/1\u001b[0m \u001b[32m━━━━━━━━━━━━━━━━━━━━\u001b[0m\u001b[37m\u001b[0m \u001b[1m0s\u001b[0m 142ms/step - accuracy: 0.5000 - loss: 1.1701 - val_accuracy: 0.5000 - val_loss: 0.8333\n",
            "Epoch 97/100\n",
            "\u001b[1m1/1\u001b[0m \u001b[32m━━━━━━━━━━━━━━━━━━━━\u001b[0m\u001b[37m\u001b[0m \u001b[1m0s\u001b[0m 134ms/step - accuracy: 0.5000 - loss: 1.1402 - val_accuracy: 0.5000 - val_loss: 0.8260\n",
            "Epoch 98/100\n",
            "\u001b[1m1/1\u001b[0m \u001b[32m━━━━━━━━━━━━━━━━━━━━\u001b[0m\u001b[37m\u001b[0m \u001b[1m0s\u001b[0m 54ms/step - accuracy: 0.5000 - loss: 1.1112 - val_accuracy: 0.5000 - val_loss: 0.8188\n",
            "Epoch 99/100\n",
            "\u001b[1m1/1\u001b[0m \u001b[32m━━━━━━━━━━━━━━━━━━━━\u001b[0m\u001b[37m\u001b[0m \u001b[1m0s\u001b[0m 53ms/step - accuracy: 0.5000 - loss: 1.0831 - val_accuracy: 0.5000 - val_loss: 0.8119\n",
            "Epoch 100/100\n",
            "\u001b[1m1/1\u001b[0m \u001b[32m━━━━━━━━━━━━━━━━━━━━\u001b[0m\u001b[37m\u001b[0m \u001b[1m0s\u001b[0m 53ms/step - accuracy: 0.5000 - loss: 1.0561 - val_accuracy: 0.5000 - val_loss: 0.8052\n",
            "Model trained successfully!\n"
          ]
        }
      ]
    },
    {
      "cell_type": "code",
      "source": [
        "from sklearn.linear_model import LinearRegression\n",
        "\n",
        "# Training data\n",
        "X_train = [[1, 2], [3, 4], [5, 6]]\n",
        "y_train = [0, 1, 0]\n",
        "\n",
        "# Create and train the model\n",
        "model = LinearRegression()\n",
        "model.fit(X_train, y_train)\n"
      ],
      "metadata": {
        "colab": {
          "base_uri": "https://localhost:8080/",
          "height": 80
        },
        "id": "Fy2PM08K9_sl",
        "outputId": "fd68cbc1-2ef4-43b5-e387-ba0198e2a322"
      },
      "execution_count": 38,
      "outputs": [
        {
          "output_type": "execute_result",
          "data": {
            "text/plain": [
              "LinearRegression()"
            ],
            "text/html": [
              "<style>#sk-container-id-1 {\n",
              "  /* Definition of color scheme common for light and dark mode */\n",
              "  --sklearn-color-text: black;\n",
              "  --sklearn-color-line: gray;\n",
              "  /* Definition of color scheme for unfitted estimators */\n",
              "  --sklearn-color-unfitted-level-0: #fff5e6;\n",
              "  --sklearn-color-unfitted-level-1: #f6e4d2;\n",
              "  --sklearn-color-unfitted-level-2: #ffe0b3;\n",
              "  --sklearn-color-unfitted-level-3: chocolate;\n",
              "  /* Definition of color scheme for fitted estimators */\n",
              "  --sklearn-color-fitted-level-0: #f0f8ff;\n",
              "  --sklearn-color-fitted-level-1: #d4ebff;\n",
              "  --sklearn-color-fitted-level-2: #b3dbfd;\n",
              "  --sklearn-color-fitted-level-3: cornflowerblue;\n",
              "\n",
              "  /* Specific color for light theme */\n",
              "  --sklearn-color-text-on-default-background: var(--sg-text-color, var(--theme-code-foreground, var(--jp-content-font-color1, black)));\n",
              "  --sklearn-color-background: var(--sg-background-color, var(--theme-background, var(--jp-layout-color0, white)));\n",
              "  --sklearn-color-border-box: var(--sg-text-color, var(--theme-code-foreground, var(--jp-content-font-color1, black)));\n",
              "  --sklearn-color-icon: #696969;\n",
              "\n",
              "  @media (prefers-color-scheme: dark) {\n",
              "    /* Redefinition of color scheme for dark theme */\n",
              "    --sklearn-color-text-on-default-background: var(--sg-text-color, var(--theme-code-foreground, var(--jp-content-font-color1, white)));\n",
              "    --sklearn-color-background: var(--sg-background-color, var(--theme-background, var(--jp-layout-color0, #111)));\n",
              "    --sklearn-color-border-box: var(--sg-text-color, var(--theme-code-foreground, var(--jp-content-font-color1, white)));\n",
              "    --sklearn-color-icon: #878787;\n",
              "  }\n",
              "}\n",
              "\n",
              "#sk-container-id-1 {\n",
              "  color: var(--sklearn-color-text);\n",
              "}\n",
              "\n",
              "#sk-container-id-1 pre {\n",
              "  padding: 0;\n",
              "}\n",
              "\n",
              "#sk-container-id-1 input.sk-hidden--visually {\n",
              "  border: 0;\n",
              "  clip: rect(1px 1px 1px 1px);\n",
              "  clip: rect(1px, 1px, 1px, 1px);\n",
              "  height: 1px;\n",
              "  margin: -1px;\n",
              "  overflow: hidden;\n",
              "  padding: 0;\n",
              "  position: absolute;\n",
              "  width: 1px;\n",
              "}\n",
              "\n",
              "#sk-container-id-1 div.sk-dashed-wrapped {\n",
              "  border: 1px dashed var(--sklearn-color-line);\n",
              "  margin: 0 0.4em 0.5em 0.4em;\n",
              "  box-sizing: border-box;\n",
              "  padding-bottom: 0.4em;\n",
              "  background-color: var(--sklearn-color-background);\n",
              "}\n",
              "\n",
              "#sk-container-id-1 div.sk-container {\n",
              "  /* jupyter's `normalize.less` sets `[hidden] { display: none; }`\n",
              "     but bootstrap.min.css set `[hidden] { display: none !important; }`\n",
              "     so we also need the `!important` here to be able to override the\n",
              "     default hidden behavior on the sphinx rendered scikit-learn.org.\n",
              "     See: https://github.com/scikit-learn/scikit-learn/issues/21755 */\n",
              "  display: inline-block !important;\n",
              "  position: relative;\n",
              "}\n",
              "\n",
              "#sk-container-id-1 div.sk-text-repr-fallback {\n",
              "  display: none;\n",
              "}\n",
              "\n",
              "div.sk-parallel-item,\n",
              "div.sk-serial,\n",
              "div.sk-item {\n",
              "  /* draw centered vertical line to link estimators */\n",
              "  background-image: linear-gradient(var(--sklearn-color-text-on-default-background), var(--sklearn-color-text-on-default-background));\n",
              "  background-size: 2px 100%;\n",
              "  background-repeat: no-repeat;\n",
              "  background-position: center center;\n",
              "}\n",
              "\n",
              "/* Parallel-specific style estimator block */\n",
              "\n",
              "#sk-container-id-1 div.sk-parallel-item::after {\n",
              "  content: \"\";\n",
              "  width: 100%;\n",
              "  border-bottom: 2px solid var(--sklearn-color-text-on-default-background);\n",
              "  flex-grow: 1;\n",
              "}\n",
              "\n",
              "#sk-container-id-1 div.sk-parallel {\n",
              "  display: flex;\n",
              "  align-items: stretch;\n",
              "  justify-content: center;\n",
              "  background-color: var(--sklearn-color-background);\n",
              "  position: relative;\n",
              "}\n",
              "\n",
              "#sk-container-id-1 div.sk-parallel-item {\n",
              "  display: flex;\n",
              "  flex-direction: column;\n",
              "}\n",
              "\n",
              "#sk-container-id-1 div.sk-parallel-item:first-child::after {\n",
              "  align-self: flex-end;\n",
              "  width: 50%;\n",
              "}\n",
              "\n",
              "#sk-container-id-1 div.sk-parallel-item:last-child::after {\n",
              "  align-self: flex-start;\n",
              "  width: 50%;\n",
              "}\n",
              "\n",
              "#sk-container-id-1 div.sk-parallel-item:only-child::after {\n",
              "  width: 0;\n",
              "}\n",
              "\n",
              "/* Serial-specific style estimator block */\n",
              "\n",
              "#sk-container-id-1 div.sk-serial {\n",
              "  display: flex;\n",
              "  flex-direction: column;\n",
              "  align-items: center;\n",
              "  background-color: var(--sklearn-color-background);\n",
              "  padding-right: 1em;\n",
              "  padding-left: 1em;\n",
              "}\n",
              "\n",
              "\n",
              "/* Toggleable style: style used for estimator/Pipeline/ColumnTransformer box that is\n",
              "clickable and can be expanded/collapsed.\n",
              "- Pipeline and ColumnTransformer use this feature and define the default style\n",
              "- Estimators will overwrite some part of the style using the `sk-estimator` class\n",
              "*/\n",
              "\n",
              "/* Pipeline and ColumnTransformer style (default) */\n",
              "\n",
              "#sk-container-id-1 div.sk-toggleable {\n",
              "  /* Default theme specific background. It is overwritten whether we have a\n",
              "  specific estimator or a Pipeline/ColumnTransformer */\n",
              "  background-color: var(--sklearn-color-background);\n",
              "}\n",
              "\n",
              "/* Toggleable label */\n",
              "#sk-container-id-1 label.sk-toggleable__label {\n",
              "  cursor: pointer;\n",
              "  display: block;\n",
              "  width: 100%;\n",
              "  margin-bottom: 0;\n",
              "  padding: 0.5em;\n",
              "  box-sizing: border-box;\n",
              "  text-align: center;\n",
              "}\n",
              "\n",
              "#sk-container-id-1 label.sk-toggleable__label-arrow:before {\n",
              "  /* Arrow on the left of the label */\n",
              "  content: \"▸\";\n",
              "  float: left;\n",
              "  margin-right: 0.25em;\n",
              "  color: var(--sklearn-color-icon);\n",
              "}\n",
              "\n",
              "#sk-container-id-1 label.sk-toggleable__label-arrow:hover:before {\n",
              "  color: var(--sklearn-color-text);\n",
              "}\n",
              "\n",
              "/* Toggleable content - dropdown */\n",
              "\n",
              "#sk-container-id-1 div.sk-toggleable__content {\n",
              "  max-height: 0;\n",
              "  max-width: 0;\n",
              "  overflow: hidden;\n",
              "  text-align: left;\n",
              "  /* unfitted */\n",
              "  background-color: var(--sklearn-color-unfitted-level-0);\n",
              "}\n",
              "\n",
              "#sk-container-id-1 div.sk-toggleable__content.fitted {\n",
              "  /* fitted */\n",
              "  background-color: var(--sklearn-color-fitted-level-0);\n",
              "}\n",
              "\n",
              "#sk-container-id-1 div.sk-toggleable__content pre {\n",
              "  margin: 0.2em;\n",
              "  border-radius: 0.25em;\n",
              "  color: var(--sklearn-color-text);\n",
              "  /* unfitted */\n",
              "  background-color: var(--sklearn-color-unfitted-level-0);\n",
              "}\n",
              "\n",
              "#sk-container-id-1 div.sk-toggleable__content.fitted pre {\n",
              "  /* unfitted */\n",
              "  background-color: var(--sklearn-color-fitted-level-0);\n",
              "}\n",
              "\n",
              "#sk-container-id-1 input.sk-toggleable__control:checked~div.sk-toggleable__content {\n",
              "  /* Expand drop-down */\n",
              "  max-height: 200px;\n",
              "  max-width: 100%;\n",
              "  overflow: auto;\n",
              "}\n",
              "\n",
              "#sk-container-id-1 input.sk-toggleable__control:checked~label.sk-toggleable__label-arrow:before {\n",
              "  content: \"▾\";\n",
              "}\n",
              "\n",
              "/* Pipeline/ColumnTransformer-specific style */\n",
              "\n",
              "#sk-container-id-1 div.sk-label input.sk-toggleable__control:checked~label.sk-toggleable__label {\n",
              "  color: var(--sklearn-color-text);\n",
              "  background-color: var(--sklearn-color-unfitted-level-2);\n",
              "}\n",
              "\n",
              "#sk-container-id-1 div.sk-label.fitted input.sk-toggleable__control:checked~label.sk-toggleable__label {\n",
              "  background-color: var(--sklearn-color-fitted-level-2);\n",
              "}\n",
              "\n",
              "/* Estimator-specific style */\n",
              "\n",
              "/* Colorize estimator box */\n",
              "#sk-container-id-1 div.sk-estimator input.sk-toggleable__control:checked~label.sk-toggleable__label {\n",
              "  /* unfitted */\n",
              "  background-color: var(--sklearn-color-unfitted-level-2);\n",
              "}\n",
              "\n",
              "#sk-container-id-1 div.sk-estimator.fitted input.sk-toggleable__control:checked~label.sk-toggleable__label {\n",
              "  /* fitted */\n",
              "  background-color: var(--sklearn-color-fitted-level-2);\n",
              "}\n",
              "\n",
              "#sk-container-id-1 div.sk-label label.sk-toggleable__label,\n",
              "#sk-container-id-1 div.sk-label label {\n",
              "  /* The background is the default theme color */\n",
              "  color: var(--sklearn-color-text-on-default-background);\n",
              "}\n",
              "\n",
              "/* On hover, darken the color of the background */\n",
              "#sk-container-id-1 div.sk-label:hover label.sk-toggleable__label {\n",
              "  color: var(--sklearn-color-text);\n",
              "  background-color: var(--sklearn-color-unfitted-level-2);\n",
              "}\n",
              "\n",
              "/* Label box, darken color on hover, fitted */\n",
              "#sk-container-id-1 div.sk-label.fitted:hover label.sk-toggleable__label.fitted {\n",
              "  color: var(--sklearn-color-text);\n",
              "  background-color: var(--sklearn-color-fitted-level-2);\n",
              "}\n",
              "\n",
              "/* Estimator label */\n",
              "\n",
              "#sk-container-id-1 div.sk-label label {\n",
              "  font-family: monospace;\n",
              "  font-weight: bold;\n",
              "  display: inline-block;\n",
              "  line-height: 1.2em;\n",
              "}\n",
              "\n",
              "#sk-container-id-1 div.sk-label-container {\n",
              "  text-align: center;\n",
              "}\n",
              "\n",
              "/* Estimator-specific */\n",
              "#sk-container-id-1 div.sk-estimator {\n",
              "  font-family: monospace;\n",
              "  border: 1px dotted var(--sklearn-color-border-box);\n",
              "  border-radius: 0.25em;\n",
              "  box-sizing: border-box;\n",
              "  margin-bottom: 0.5em;\n",
              "  /* unfitted */\n",
              "  background-color: var(--sklearn-color-unfitted-level-0);\n",
              "}\n",
              "\n",
              "#sk-container-id-1 div.sk-estimator.fitted {\n",
              "  /* fitted */\n",
              "  background-color: var(--sklearn-color-fitted-level-0);\n",
              "}\n",
              "\n",
              "/* on hover */\n",
              "#sk-container-id-1 div.sk-estimator:hover {\n",
              "  /* unfitted */\n",
              "  background-color: var(--sklearn-color-unfitted-level-2);\n",
              "}\n",
              "\n",
              "#sk-container-id-1 div.sk-estimator.fitted:hover {\n",
              "  /* fitted */\n",
              "  background-color: var(--sklearn-color-fitted-level-2);\n",
              "}\n",
              "\n",
              "/* Specification for estimator info (e.g. \"i\" and \"?\") */\n",
              "\n",
              "/* Common style for \"i\" and \"?\" */\n",
              "\n",
              ".sk-estimator-doc-link,\n",
              "a:link.sk-estimator-doc-link,\n",
              "a:visited.sk-estimator-doc-link {\n",
              "  float: right;\n",
              "  font-size: smaller;\n",
              "  line-height: 1em;\n",
              "  font-family: monospace;\n",
              "  background-color: var(--sklearn-color-background);\n",
              "  border-radius: 1em;\n",
              "  height: 1em;\n",
              "  width: 1em;\n",
              "  text-decoration: none !important;\n",
              "  margin-left: 1ex;\n",
              "  /* unfitted */\n",
              "  border: var(--sklearn-color-unfitted-level-1) 1pt solid;\n",
              "  color: var(--sklearn-color-unfitted-level-1);\n",
              "}\n",
              "\n",
              ".sk-estimator-doc-link.fitted,\n",
              "a:link.sk-estimator-doc-link.fitted,\n",
              "a:visited.sk-estimator-doc-link.fitted {\n",
              "  /* fitted */\n",
              "  border: var(--sklearn-color-fitted-level-1) 1pt solid;\n",
              "  color: var(--sklearn-color-fitted-level-1);\n",
              "}\n",
              "\n",
              "/* On hover */\n",
              "div.sk-estimator:hover .sk-estimator-doc-link:hover,\n",
              ".sk-estimator-doc-link:hover,\n",
              "div.sk-label-container:hover .sk-estimator-doc-link:hover,\n",
              ".sk-estimator-doc-link:hover {\n",
              "  /* unfitted */\n",
              "  background-color: var(--sklearn-color-unfitted-level-3);\n",
              "  color: var(--sklearn-color-background);\n",
              "  text-decoration: none;\n",
              "}\n",
              "\n",
              "div.sk-estimator.fitted:hover .sk-estimator-doc-link.fitted:hover,\n",
              ".sk-estimator-doc-link.fitted:hover,\n",
              "div.sk-label-container:hover .sk-estimator-doc-link.fitted:hover,\n",
              ".sk-estimator-doc-link.fitted:hover {\n",
              "  /* fitted */\n",
              "  background-color: var(--sklearn-color-fitted-level-3);\n",
              "  color: var(--sklearn-color-background);\n",
              "  text-decoration: none;\n",
              "}\n",
              "\n",
              "/* Span, style for the box shown on hovering the info icon */\n",
              ".sk-estimator-doc-link span {\n",
              "  display: none;\n",
              "  z-index: 9999;\n",
              "  position: relative;\n",
              "  font-weight: normal;\n",
              "  right: .2ex;\n",
              "  padding: .5ex;\n",
              "  margin: .5ex;\n",
              "  width: min-content;\n",
              "  min-width: 20ex;\n",
              "  max-width: 50ex;\n",
              "  color: var(--sklearn-color-text);\n",
              "  box-shadow: 2pt 2pt 4pt #999;\n",
              "  /* unfitted */\n",
              "  background: var(--sklearn-color-unfitted-level-0);\n",
              "  border: .5pt solid var(--sklearn-color-unfitted-level-3);\n",
              "}\n",
              "\n",
              ".sk-estimator-doc-link.fitted span {\n",
              "  /* fitted */\n",
              "  background: var(--sklearn-color-fitted-level-0);\n",
              "  border: var(--sklearn-color-fitted-level-3);\n",
              "}\n",
              "\n",
              ".sk-estimator-doc-link:hover span {\n",
              "  display: block;\n",
              "}\n",
              "\n",
              "/* \"?\"-specific style due to the `<a>` HTML tag */\n",
              "\n",
              "#sk-container-id-1 a.estimator_doc_link {\n",
              "  float: right;\n",
              "  font-size: 1rem;\n",
              "  line-height: 1em;\n",
              "  font-family: monospace;\n",
              "  background-color: var(--sklearn-color-background);\n",
              "  border-radius: 1rem;\n",
              "  height: 1rem;\n",
              "  width: 1rem;\n",
              "  text-decoration: none;\n",
              "  /* unfitted */\n",
              "  color: var(--sklearn-color-unfitted-level-1);\n",
              "  border: var(--sklearn-color-unfitted-level-1) 1pt solid;\n",
              "}\n",
              "\n",
              "#sk-container-id-1 a.estimator_doc_link.fitted {\n",
              "  /* fitted */\n",
              "  border: var(--sklearn-color-fitted-level-1) 1pt solid;\n",
              "  color: var(--sklearn-color-fitted-level-1);\n",
              "}\n",
              "\n",
              "/* On hover */\n",
              "#sk-container-id-1 a.estimator_doc_link:hover {\n",
              "  /* unfitted */\n",
              "  background-color: var(--sklearn-color-unfitted-level-3);\n",
              "  color: var(--sklearn-color-background);\n",
              "  text-decoration: none;\n",
              "}\n",
              "\n",
              "#sk-container-id-1 a.estimator_doc_link.fitted:hover {\n",
              "  /* fitted */\n",
              "  background-color: var(--sklearn-color-fitted-level-3);\n",
              "}\n",
              "</style><div id=\"sk-container-id-1\" class=\"sk-top-container\"><div class=\"sk-text-repr-fallback\"><pre>LinearRegression()</pre><b>In a Jupyter environment, please rerun this cell to show the HTML representation or trust the notebook. <br />On GitHub, the HTML representation is unable to render, please try loading this page with nbviewer.org.</b></div><div class=\"sk-container\" hidden><div class=\"sk-item\"><div class=\"sk-estimator fitted sk-toggleable\"><input class=\"sk-toggleable__control sk-hidden--visually\" id=\"sk-estimator-id-1\" type=\"checkbox\" checked><label for=\"sk-estimator-id-1\" class=\"sk-toggleable__label fitted sk-toggleable__label-arrow fitted\">&nbsp;&nbsp;LinearRegression<a class=\"sk-estimator-doc-link fitted\" rel=\"noreferrer\" target=\"_blank\" href=\"https://scikit-learn.org/1.5/modules/generated/sklearn.linear_model.LinearRegression.html\">?<span>Documentation for LinearRegression</span></a><span class=\"sk-estimator-doc-link fitted\">i<span>Fitted</span></span></label><div class=\"sk-toggleable__content fitted\"><pre>LinearRegression()</pre></div> </div></div></div></div>"
            ]
          },
          "metadata": {},
          "execution_count": 38
        }
      ]
    },
    {
      "cell_type": "code",
      "source": [
        "#19What does model.predict() do? What arguments must be given?\n",
        "\n",
        "#What model.predict() Does\n",
        "#Predictions: It generates predictions based on the input data provided, using the trained model.\n",
        "\n",
        "#Inference: Allows you to apply the model to new data to infer the output (e.g., class labels, regression values)."
      ],
      "metadata": {
        "id": "P87YoTuD-Qic"
      },
      "execution_count": null,
      "outputs": []
    },
    {
      "cell_type": "code",
      "source": [
        "#Required Argument\n",
        "#X (Input Data)\n",
        "\n",
        "#Description: The new data on which you want to make predictions. This can be in the form of a NumPy array, DataFrame, or tensor.\n",
        "\n"
      ],
      "metadata": {
        "id": "cK-HX5tx-uH2"
      },
      "execution_count": null,
      "outputs": []
    },
    {
      "cell_type": "code",
      "source": [
        "import numpy as np\n",
        "from tensorflow.keras.models import Sequential\n",
        "from tensorflow.keras.layers import Dense\n",
        "\n",
        "# Sample data for training\n",
        "X_train = np.array([[1, 2], [3, 4], [5, 6]])\n",
        "y_train = np.array([0, 1, 0])\n",
        "\n",
        "# Create and train the model\n",
        "model = Sequential()\n",
        "model.add(Dense(10, activation='relu', input_shape=(2,)))\n",
        "model.add(Dense(1, activation='sigmoid'))\n",
        "model.compile(optimizer='adam', loss='binary_crossentropy', metrics=['accuracy'])\n",
        "model.fit(X_train, y_train, epochs=10, batch_size=1)\n",
        "\n",
        "# New data for predictions (converted to NumPy array)\n",
        "X_new = np.array([[5, 6], [7, 8]])\n",
        "predictions = model.predict(X_new)\n",
        "\n",
        "print(\"Predictions:\", predictions)\n"
      ],
      "metadata": {
        "colab": {
          "base_uri": "https://localhost:8080/"
        },
        "id": "KYRD-G8Q-yqJ",
        "outputId": "49cdbe53-373a-437f-e022-659f7acefd54"
      },
      "execution_count": 42,
      "outputs": [
        {
          "output_type": "stream",
          "name": "stdout",
          "text": [
            "Epoch 1/10\n",
            "\u001b[1m3/3\u001b[0m \u001b[32m━━━━━━━━━━━━━━━━━━━━\u001b[0m\u001b[37m\u001b[0m \u001b[1m1s\u001b[0m 6ms/step - accuracy: 0.4583 - loss: 0.9793   \n",
            "Epoch 2/10\n",
            "\u001b[1m3/3\u001b[0m \u001b[32m━━━━━━━━━━━━━━━━━━━━\u001b[0m\u001b[37m\u001b[0m \u001b[1m0s\u001b[0m 6ms/step - accuracy: 0.7083 - loss: 0.5876 \n",
            "Epoch 3/10\n",
            "\u001b[1m3/3\u001b[0m \u001b[32m━━━━━━━━━━━━━━━━━━━━\u001b[0m\u001b[37m\u001b[0m \u001b[1m0s\u001b[0m 6ms/step - accuracy: 0.4583 - loss: 0.9892     \n",
            "Epoch 4/10\n",
            "\u001b[1m3/3\u001b[0m \u001b[32m━━━━━━━━━━━━━━━━━━━━\u001b[0m\u001b[37m\u001b[0m \u001b[1m0s\u001b[0m 6ms/step - accuracy: 0.8333 - loss: 0.4882 \n",
            "Epoch 5/10\n",
            "\u001b[1m3/3\u001b[0m \u001b[32m━━━━━━━━━━━━━━━━━━━━\u001b[0m\u001b[37m\u001b[0m \u001b[1m0s\u001b[0m 5ms/step - accuracy: 0.4583 - loss: 0.9455     \n",
            "Epoch 6/10\n",
            "\u001b[1m3/3\u001b[0m \u001b[32m━━━━━━━━━━━━━━━━━━━━\u001b[0m\u001b[37m\u001b[0m \u001b[1m0s\u001b[0m 5ms/step - accuracy: 0.7083 - loss: 0.5767 \n",
            "Epoch 7/10\n",
            "\u001b[1m3/3\u001b[0m \u001b[32m━━━━━━━━━━━━━━━━━━━━\u001b[0m\u001b[37m\u001b[0m \u001b[1m0s\u001b[0m 6ms/step - accuracy: 0.8333 - loss: 0.4266 \n",
            "Epoch 8/10\n",
            "\u001b[1m3/3\u001b[0m \u001b[32m━━━━━━━━━━━━━━━━━━━━\u001b[0m\u001b[37m\u001b[0m \u001b[1m0s\u001b[0m 6ms/step - accuracy: 0.8333 - loss: 0.4853 \n",
            "Epoch 9/10\n",
            "\u001b[1m3/3\u001b[0m \u001b[32m━━━━━━━━━━━━━━━━━━━━\u001b[0m\u001b[37m\u001b[0m \u001b[1m0s\u001b[0m 6ms/step - accuracy: 0.7083 - loss: 0.5704 \n",
            "Epoch 10/10\n",
            "\u001b[1m3/3\u001b[0m \u001b[32m━━━━━━━━━━━━━━━━━━━━\u001b[0m\u001b[37m\u001b[0m \u001b[1m0s\u001b[0m 8ms/step - accuracy: 0.4583 - loss: 0.9125     \n",
            "\u001b[1m1/1\u001b[0m \u001b[32m━━━━━━━━━━━━━━━━━━━━\u001b[0m\u001b[37m\u001b[0m \u001b[1m0s\u001b[0m 76ms/step\n",
            "Predictions: [[0.12578377]\n",
            " [0.06585985]]\n"
          ]
        }
      ]
    },
    {
      "cell_type": "code",
      "source": [
        "from sklearn.linear_model import LinearRegression\n",
        "import numpy as np\n",
        "\n",
        "# Training data\n",
        "X_train = np.array([[1, 2], [3, 4], [5, 6]])\n",
        "y_train = np.array([0, 1, 0])\n",
        "\n",
        "# Train the model\n",
        "model = LinearRegression()\n",
        "model.fit(X_train, y_train)\n",
        "\n",
        "# New data for predictions\n",
        "X_new = np.array([[7, 8], [9, 10]])\n",
        "predictions = model.predict(X_new)\n",
        "\n",
        "print(\"Predictions:\", predictions)\n"
      ],
      "metadata": {
        "colab": {
          "base_uri": "https://localhost:8080/"
        },
        "id": "MRHue6FY-8CX",
        "outputId": "5aa88b6a-3be6-4da7-a287-6380fa94bc94"
      },
      "execution_count": 43,
      "outputs": [
        {
          "output_type": "stream",
          "name": "stdout",
          "text": [
            "Predictions: [0.33333333 0.33333333]\n"
          ]
        }
      ]
    },
    {
      "cell_type": "code",
      "source": [
        "#20What are continuous and categorical variables?\n",
        "\n",
        "#Continuous Variables\n",
        "#Continuous variables are numerical variables that can take on an infinite number of values within a given range.\n",
        "#These values are often measured and can include any value within a continuum. Examples include:\n",
        "\n",
        "#Height (e.g., 170.5 cm)\n",
        "\n",
        "#Weight (e.g., 68.2 kg)\n",
        "\n",
        "#Temperature (e.g., 25.3°C)\n",
        "\n",
        "#Categorical Variables\n",
        "# Categorical variables represent data that can be divided into distinct groups\n",
        "# or categories. These are often non-numeric and are used to label or classify\n",
        "# data. Examples include:\n",
        "\n",
        "#Gender (e.g., Male, Female)\n",
        "\n",
        "#Color (e.g., Red, Blue, Green)\n",
        "\n",
        "#Type of Animal (e.g., Dog, Cat, Bird)"
      ],
      "metadata": {
        "id": "QBhVOrKg-_oF"
      },
      "execution_count": null,
      "outputs": []
    },
    {
      "cell_type": "code",
      "source": [
        "#21What is feature scaling? How does it help in Machine Learning\n",
        "\n",
        "#Feature scaling is a technique used to standardize the range of independent variables (features) in a dataset.\n",
        "#This process ensures that different features contribute equally to the model by bringing them to a similar scale.\n",
        "#There are various methods for feature scaling, including normalization and standardization."
      ],
      "metadata": {
        "id": "EECfkv9M_m1z"
      },
      "execution_count": null,
      "outputs": []
    },
    {
      "cell_type": "code",
      "source": [
        "#Improves Convergence: Many optimization algorithms, like gradient descent, converge faster with feature scaling because it helps avoid large swings in weight updates.\n",
        "\n",
        "#Avoids Bias: Algorithms that compute distances (like KNN, SVM) or those that rely on the covariance matrix (like PCA) can be biased if features are on different scales.\n",
        "\n",
        "#Enhances Model Performance: Models perform better and make more accurate predictions when all features contribute equally."
      ],
      "metadata": {
        "id": "-iJ7mwLzAUMJ"
      },
      "execution_count": null,
      "outputs": []
    },
    {
      "cell_type": "code",
      "source": [
        "# 22.How do we perform scaling in Python?\n",
        "\n"
      ],
      "metadata": {
        "id": "SHuUcOVHAjQs"
      },
      "execution_count": null,
      "outputs": []
    },
    {
      "cell_type": "code",
      "source": [
        "from sklearn.preprocessing import MinMaxScaler\n",
        "import numpy as np\n",
        "\n",
        "# Sample data\n",
        "data = np.array([[1, 2], [3, 4], [5, 6]])\n",
        "\n",
        "# Initialize the scaler\n",
        "scaler = MinMaxScaler()\n",
        "\n",
        "# Fit and transform the data\n",
        "scaled_data = scaler.fit_transform(data)\n",
        "\n",
        "print(\"Normalized Data:\")\n",
        "print(scaled_data)\n"
      ],
      "metadata": {
        "colab": {
          "base_uri": "https://localhost:8080/"
        },
        "id": "mSPWM28oBK7t",
        "outputId": "a000c5ee-caf1-4af3-df2b-7c3ae96f7da1"
      },
      "execution_count": 44,
      "outputs": [
        {
          "output_type": "stream",
          "name": "stdout",
          "text": [
            "Normalized Data:\n",
            "[[0.  0. ]\n",
            " [0.5 0.5]\n",
            " [1.  1. ]]\n"
          ]
        }
      ]
    },
    {
      "cell_type": "code",
      "source": [
        "from sklearn.preprocessing import StandardScaler\n",
        "import numpy as np\n",
        "\n",
        "# Sample data\n",
        "data = np.array([[1, 2], [3, 4], [5, 6]])\n",
        "\n",
        "# Initialize the scaler\n",
        "scaler = StandardScaler()\n",
        "\n",
        "# Fit and transform the data\n",
        "scaled_data = scaler.fit_transform(data)\n",
        "\n",
        "print(\"Standardized Data:\")\n",
        "print(scaled_data)\n"
      ],
      "metadata": {
        "colab": {
          "base_uri": "https://localhost:8080/"
        },
        "id": "aRMckFY3BL4d",
        "outputId": "d065f38d-29f3-4822-e7f2-dec16f252803"
      },
      "execution_count": 45,
      "outputs": [
        {
          "output_type": "stream",
          "name": "stdout",
          "text": [
            "Standardized Data:\n",
            "[[-1.22474487 -1.22474487]\n",
            " [ 0.          0.        ]\n",
            " [ 1.22474487  1.22474487]]\n"
          ]
        }
      ]
    },
    {
      "cell_type": "code",
      "source": [
        "from sklearn.preprocessing import RobustScaler\n",
        "import numpy as np\n",
        "\n",
        "# Sample data\n",
        "data = np.array([[1, 2], [3, 4], [5, 6]])\n",
        "\n",
        "# Initialize the scaler\n",
        "scaler = RobustScaler()\n",
        "\n",
        "# Fit and transform the data\n",
        "scaled_data = scaler.fit_transform(data)\n",
        "\n",
        "print(\"Robust Scaled Data:\")\n",
        "print(scaled_data)\n"
      ],
      "metadata": {
        "colab": {
          "base_uri": "https://localhost:8080/"
        },
        "id": "Myx2X4Y8BOfx",
        "outputId": "26e9ba51-3eec-4ace-8eec-e4f17338f577"
      },
      "execution_count": 46,
      "outputs": [
        {
          "output_type": "stream",
          "name": "stdout",
          "text": [
            "Robust Scaled Data:\n",
            "[[-1. -1.]\n",
            " [ 0.  0.]\n",
            " [ 1.  1.]]\n"
          ]
        }
      ]
    },
    {
      "cell_type": "code",
      "source": [
        "#23. What is sklearn.preprocessing?\n"
      ],
      "metadata": {
        "id": "tRh_op-2BQX0"
      },
      "execution_count": 47,
      "outputs": []
    },
    {
      "cell_type": "code",
      "source": [
        "#Key Components and Functions\n",
        "#tandardScaler\n",
        "\n",
        "#Description: Standardizes features by removing the mean and scaling to unit variance.\n",
        "\n",
        "#Example:\n",
        "\n",
        "from sklearn.preprocessing import StandardScaler\n",
        "import numpy as np\n",
        "\n",
        "data = np.array([[1, 2], [3, 4], [5, 6]])\n",
        "scaler = StandardScaler()\n",
        "scaled_data = scaler.fit_transform(data)\n",
        "MinMaxScaler\n",
        "\n"
      ],
      "metadata": {
        "colab": {
          "base_uri": "https://localhost:8080/",
          "height": 186
        },
        "id": "1LL0n9yhBgzO",
        "outputId": "7066ef44-4e48-42c4-e494-3c3ddbdc4a0f"
      },
      "execution_count": 51,
      "outputs": [
        {
          "output_type": "execute_result",
          "data": {
            "text/plain": [
              "sklearn.preprocessing._data.MinMaxScaler"
            ],
            "text/html": [
              "<div style=\"max-width:800px; border: 1px solid var(--colab-border-color);\"><style>\n",
              "      pre.function-repr-contents {\n",
              "        overflow-x: auto;\n",
              "        padding: 8px 12px;\n",
              "        max-height: 500px;\n",
              "      }\n",
              "\n",
              "      pre.function-repr-contents.function-repr-contents-collapsed {\n",
              "        cursor: pointer;\n",
              "        max-height: 100px;\n",
              "      }\n",
              "    </style>\n",
              "    <pre style=\"white-space: initial; background:\n",
              "         var(--colab-secondary-surface-color); padding: 8px 12px;\n",
              "         border-bottom: 1px solid var(--colab-border-color);\"><b>sklearn.preprocessing._data.MinMaxScaler</b><br/>def __init__(feature_range=(0, 1), *, copy=True, clip=False)</pre><pre class=\"function-repr-contents function-repr-contents-collapsed\" style=\"\"><a class=\"filepath\" style=\"display:none\" href=\"#\">/usr/local/lib/python3.10/dist-packages/sklearn/preprocessing/_data.py</a>Transform features by scaling each feature to a given range.\n",
              "\n",
              "This estimator scales and translates each feature individually such\n",
              "that it is in the given range on the training set, e.g. between\n",
              "zero and one.\n",
              "\n",
              "The transformation is given by::\n",
              "\n",
              "    X_std = (X - X.min(axis=0)) / (X.max(axis=0) - X.min(axis=0))\n",
              "    X_scaled = X_std * (max - min) + min\n",
              "\n",
              "where min, max = feature_range.\n",
              "\n",
              "This transformation is often used as an alternative to zero mean,\n",
              "unit variance scaling.\n",
              "\n",
              "`MinMaxScaler` doesn&#x27;t reduce the effect of outliers, but it linearly\n",
              "scales them down into a fixed range, where the largest occurring data point\n",
              "corresponds to the maximum value and the smallest one corresponds to the\n",
              "minimum value. For an example visualization, refer to :ref:`Compare\n",
              "MinMaxScaler with other scalers &lt;plot_all_scaling_minmax_scaler_section&gt;`.\n",
              "\n",
              "Read more in the :ref:`User Guide &lt;preprocessing_scaler&gt;`.\n",
              "\n",
              "Parameters\n",
              "----------\n",
              "feature_range : tuple (min, max), default=(0, 1)\n",
              "    Desired range of transformed data.\n",
              "\n",
              "copy : bool, default=True\n",
              "    Set to False to perform inplace row normalization and avoid a\n",
              "    copy (if the input is already a numpy array).\n",
              "\n",
              "clip : bool, default=False\n",
              "    Set to True to clip transformed values of held-out data to\n",
              "    provided `feature range`.\n",
              "\n",
              "    .. versionadded:: 0.24\n",
              "\n",
              "Attributes\n",
              "----------\n",
              "min_ : ndarray of shape (n_features,)\n",
              "    Per feature adjustment for minimum. Equivalent to\n",
              "    ``min - X.min(axis=0) * self.scale_``\n",
              "\n",
              "scale_ : ndarray of shape (n_features,)\n",
              "    Per feature relative scaling of the data. Equivalent to\n",
              "    ``(max - min) / (X.max(axis=0) - X.min(axis=0))``\n",
              "\n",
              "    .. versionadded:: 0.17\n",
              "       *scale_* attribute.\n",
              "\n",
              "data_min_ : ndarray of shape (n_features,)\n",
              "    Per feature minimum seen in the data\n",
              "\n",
              "    .. versionadded:: 0.17\n",
              "       *data_min_*\n",
              "\n",
              "data_max_ : ndarray of shape (n_features,)\n",
              "    Per feature maximum seen in the data\n",
              "\n",
              "    .. versionadded:: 0.17\n",
              "       *data_max_*\n",
              "\n",
              "data_range_ : ndarray of shape (n_features,)\n",
              "    Per feature range ``(data_max_ - data_min_)`` seen in the data\n",
              "\n",
              "    .. versionadded:: 0.17\n",
              "       *data_range_*\n",
              "\n",
              "n_features_in_ : int\n",
              "    Number of features seen during :term:`fit`.\n",
              "\n",
              "    .. versionadded:: 0.24\n",
              "\n",
              "n_samples_seen_ : int\n",
              "    The number of samples processed by the estimator.\n",
              "    It will be reset on new calls to fit, but increments across\n",
              "    ``partial_fit`` calls.\n",
              "\n",
              "feature_names_in_ : ndarray of shape (`n_features_in_`,)\n",
              "    Names of features seen during :term:`fit`. Defined only when `X`\n",
              "    has feature names that are all strings.\n",
              "\n",
              "    .. versionadded:: 1.0\n",
              "\n",
              "See Also\n",
              "--------\n",
              "minmax_scale : Equivalent function without the estimator API.\n",
              "\n",
              "Notes\n",
              "-----\n",
              "NaNs are treated as missing values: disregarded in fit, and maintained in\n",
              "transform.\n",
              "\n",
              "Examples\n",
              "--------\n",
              "&gt;&gt;&gt; from sklearn.preprocessing import MinMaxScaler\n",
              "&gt;&gt;&gt; data = [[-1, 2], [-0.5, 6], [0, 10], [1, 18]]\n",
              "&gt;&gt;&gt; scaler = MinMaxScaler()\n",
              "&gt;&gt;&gt; print(scaler.fit(data))\n",
              "MinMaxScaler()\n",
              "&gt;&gt;&gt; print(scaler.data_max_)\n",
              "[ 1. 18.]\n",
              "&gt;&gt;&gt; print(scaler.transform(data))\n",
              "[[0.   0.  ]\n",
              " [0.25 0.25]\n",
              " [0.5  0.5 ]\n",
              " [1.   1.  ]]\n",
              "&gt;&gt;&gt; print(scaler.transform([[2, 2]]))\n",
              "[[1.5 0. ]]</pre>\n",
              "      <script>\n",
              "      if (google.colab.kernel.accessAllowed && google.colab.files && google.colab.files.view) {\n",
              "        for (const element of document.querySelectorAll('.filepath')) {\n",
              "          element.style.display = 'block'\n",
              "          element.onclick = (event) => {\n",
              "            event.preventDefault();\n",
              "            event.stopPropagation();\n",
              "            google.colab.files.view(element.textContent, 291);\n",
              "          };\n",
              "        }\n",
              "      }\n",
              "      for (const element of document.querySelectorAll('.function-repr-contents')) {\n",
              "        element.onclick = (event) => {\n",
              "          event.preventDefault();\n",
              "          event.stopPropagation();\n",
              "          element.classList.toggle('function-repr-contents-collapsed');\n",
              "        };\n",
              "      }\n",
              "      </script>\n",
              "      </div>"
            ]
          },
          "metadata": {},
          "execution_count": 51
        }
      ]
    },
    {
      "cell_type": "code",
      "source": [
        "#MinMaxScaler\n",
        "\n",
        "#Description: Scales features to a given range, typically [0, 1].\n",
        "\n",
        "#Example:\n",
        "\n",
        "\n",
        "from sklearn.preprocessing import MinMaxScaler\n",
        "import numpy as np\n",
        "\n",
        "data = np.array([[1, 2], [3, 4], [5, 6]])\n",
        "scaler = MinMaxScaler()\n",
        "scaled_data = scaler.fit_transform(data)"
      ],
      "metadata": {
        "id": "7wMjdT_eBzPn"
      },
      "execution_count": 54,
      "outputs": []
    },
    {
      "cell_type": "code",
      "source": [
        "#24.How do we split data for model fitting (training and testing) in Python\n",
        "\n",
        "\n",
        "from sklearn.model_selection import train_test_split\n",
        "import numpy as np\n",
        "\n",
        "# Sample data\n",
        "X = np.array([[1, 2], [3, 4], [5, 6], [7, 8], [9, 10], [11, 12]])\n",
        "y = np.array([0, 1, 0, 1, 0, 1])\n",
        "\n",
        "# Split data into training and testing sets\n",
        "X_train, X_test, y_train, y_test = train_test_split(X, y, test_size=0.2, random_state=42)\n",
        "\n",
        "print(\"Training Data:\")\n",
        "print(X_train)\n",
        "print(y_train)\n",
        "\n",
        "print(\"Testing Data:\")\n",
        "print(X_test)\n",
        "print(y_test)\n"
      ],
      "metadata": {
        "id": "-AwcxpbsCVuz",
        "outputId": "b1c89e89-1469-4553-f5c2-9416fe881464",
        "colab": {
          "base_uri": "https://localhost:8080/"
        }
      },
      "execution_count": 55,
      "outputs": [
        {
          "output_type": "stream",
          "name": "stdout",
          "text": [
            "Training Data:\n",
            "[[11 12]\n",
            " [ 5  6]\n",
            " [ 9 10]\n",
            " [ 7  8]]\n",
            "[1 0 0 1]\n",
            "Testing Data:\n",
            "[[1 2]\n",
            " [3 4]]\n",
            "[0 1]\n"
          ]
        }
      ]
    },
    {
      "cell_type": "code",
      "source": [
        " #Explain data encoding?\n",
        "\n",
        "# Data encoding is a crucial preprocessing step in machine learning and data\n",
        "# science that involves transforming categorical data into a numerical format so\n",
        "# that machine learning algorithms can process it. Categorical data includes\n",
        "# variables that represent labels or categories, and most machine learning\n",
        "# models require numerical input. There are several methods for encoding\n",
        "# categorical data:"
      ],
      "metadata": {
        "id": "NYiHh7UICo1P"
      },
      "execution_count": null,
      "outputs": []
    }
  ]
}